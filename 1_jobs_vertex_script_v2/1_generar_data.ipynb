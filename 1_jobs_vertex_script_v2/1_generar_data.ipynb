{
 "cells": [
  {
   "cell_type": "markdown",
   "id": "b15a7ca9-473a-4be3-be3f-26ea6c60558c",
   "metadata": {},
   "source": [
    "# GENERAR DATA\n",
    "Generar data para entrenamiento de modelo.\n",
    "Luego guardar data en formato pkl en storage"
   ]
  },
  {
   "cell_type": "code",
   "execution_count": null,
   "id": "4f163a23-de75-48c3-869b-abf9a0da534b",
   "metadata": {},
   "outputs": [],
   "source": [
    "import pandas as pd\n",
    "import numpy as np\n",
    "import sklearn\n",
    "import sys\n",
    "from google.cloud import bigquery\n",
    "import gcsfs\n",
    "\n",
    "print(\"Versión de Python:\", sys.version)\n",
    "print(\"Versión de Pandas:\", pd.__version__)\n",
    "print(\"Versión de Numpy:\", np.__version__)\n",
    "print(\"Versión de Scikit-learn:\", sklearn.__version__)\n",
    "print(\"Versión de google-cloud-bigquery:\", bigquery.__version__)\n",
    "print(\"Version de gcsfs: \", gcsfs.__version__)"
   ]
  },
  {
   "cell_type": "code",
   "execution_count": null,
   "id": "9573f8a6-db27-4102-944c-36f6c1d8ff67",
   "metadata": {},
   "outputs": [],
   "source": []
  },
  {
   "cell_type": "code",
   "execution_count": null,
   "id": "f2450665-79ea-416d-b336-f5cc4155bfb6",
   "metadata": {},
   "outputs": [],
   "source": [
    "import os\n",
    "from dotenv import load_dotenv, find_dotenv # package used in jupyter notebook to read the variables in file .env\n",
    "\n",
    "\"\"\" get env variable from .env \"\"\"\n",
    "load_dotenv(find_dotenv())\n",
    "\n",
    "\"\"\" Read env variables and save it as python variable \"\"\"\n",
    "PROJECT_ID_DS = os.environ.get(\"PROJECT_GCP\", \"\")"
   ]
  },
  {
   "cell_type": "code",
   "execution_count": null,
   "id": "f0cf68f2-efac-4105-872c-08e093a7bce0",
   "metadata": {},
   "outputs": [],
   "source": []
  },
  {
   "cell_type": "markdown",
   "id": "2f50cca9-8288-46e4-a2fa-1ffaf7845459",
   "metadata": {},
   "source": [
    "### 2. Params"
   ]
  },
  {
   "cell_type": "code",
   "execution_count": null,
   "id": "e9230eb9-84b8-4479-8f07-91eb6bf675f5",
   "metadata": {},
   "outputs": [],
   "source": [
    "BUCKET_NAME = '{bucket-name}'"
   ]
  },
  {
   "cell_type": "code",
   "execution_count": null,
   "id": "da830b19-94c3-4308-9f39-2dde3050607a",
   "metadata": {},
   "outputs": [],
   "source": []
  },
  {
   "cell_type": "code",
   "execution_count": null,
   "id": "baaa8a76-9a3e-4594-9e18-593b07b826da",
   "metadata": {},
   "outputs": [],
   "source": []
  },
  {
   "cell_type": "markdown",
   "id": "272b7cd3-cb7d-4d60-8bde-0eadd3ee77b2",
   "metadata": {},
   "source": [
    "### 3. crear dataset"
   ]
  },
  {
   "cell_type": "code",
   "execution_count": null,
   "id": "7e65303e-d90a-4e62-9701-805196720c1b",
   "metadata": {},
   "outputs": [],
   "source": [
    "def ec(x, y, z):\n",
    "    return 6*np.power(x, 3) + 5*np.power(y,2) + 10 - 7*z"
   ]
  },
  {
   "cell_type": "code",
   "execution_count": null,
   "id": "e1fceba7-1536-4bb1-8cea-7f892b90617d",
   "metadata": {},
   "outputs": [],
   "source": [
    "np.random.seed(42)\n",
    "\n",
    "# generate random features\n",
    "len_values = 5000\n",
    "x = np.random.random([len_values, 3])\n",
    "\n",
    "# predict\n",
    "y = ec(x[:, 0], x[:, 1], x[: ,2])\n",
    "\n",
    "# add noise value y\n",
    "y = y + np.random.random(len_values)"
   ]
  },
  {
   "cell_type": "code",
   "execution_count": null,
   "id": "06a04c51-f4e6-4c2f-a593-7ae4d8a9bc02",
   "metadata": {},
   "outputs": [],
   "source": [
    "data = pd.DataFrame(x, columns = ['feature_1', 'feature_2', 'feature_3'])\n",
    "data['target'] = y\n",
    "data"
   ]
  },
  {
   "cell_type": "code",
   "execution_count": null,
   "id": "40c2c2e9-7218-4030-a8d2-8634e2f3a7e8",
   "metadata": {},
   "outputs": [],
   "source": []
  },
  {
   "cell_type": "markdown",
   "id": "ef8b966d-550a-4533-83a2-d4911231983d",
   "metadata": {},
   "source": [
    "### 4. GUARDAR DATA PICKLE"
   ]
  },
  {
   "cell_type": "code",
   "execution_count": null,
   "id": "a83ed1ef-4b30-4683-a353-e64ea390ad71",
   "metadata": {},
   "outputs": [],
   "source": [
    "import gcsfs\n",
    "import pickle\n",
    "\n",
    "def save2GCS(path_from_root, object2save):\n",
    "    \"\"\"\n",
    "    save object in GCS in pickle format\n",
    "    \"\"\"\n",
    "    fs = gcsfs.GCSFileSystem(project = PROJECT_ID_DS)\n",
    "    with fs.open(path_from_root, \"wb\") as output:\n",
    "        pickle.dump(object2save, output)\n",
    "        output.close()"
   ]
  },
  {
   "cell_type": "code",
   "execution_count": null,
   "id": "6cb8e9f1-9a9d-464e-b4e8-e42c9a386102",
   "metadata": {},
   "outputs": [],
   "source": [
    "# path full GCS\n",
    "path_data = f'gs://{BUCKET_NAME}/poc-jobs-vertex/data.pkl'\n",
    "print('path_data: ', path_data)\n",
    "\n",
    "# save\n",
    "save2GCS(path_from_root = path_data,\n",
    "         object2save = data\n",
    "        )"
   ]
  },
  {
   "cell_type": "code",
   "execution_count": null,
   "id": "1690e4ab",
   "metadata": {},
   "outputs": [],
   "source": []
  },
  {
   "cell_type": "code",
   "execution_count": null,
   "id": "ca5ec41b",
   "metadata": {},
   "outputs": [],
   "source": []
  }
 ],
 "metadata": {
  "environment": {
   "kernel": "python3",
   "name": "common-cpu.m108",
   "type": "gcloud",
   "uri": "gcr.io/deeplearning-platform-release/base-cpu:m108"
  },
  "kernelspec": {
   "display_name": "Python 3 (ipykernel)",
   "language": "python",
   "name": "python3"
  },
  "language_info": {
   "codemirror_mode": {
    "name": "ipython",
    "version": 3
   },
   "file_extension": ".py",
   "mimetype": "text/x-python",
   "name": "python",
   "nbconvert_exporter": "python",
   "pygments_lexer": "ipython3",
   "version": "3.10.14"
  }
 },
 "nbformat": 4,
 "nbformat_minor": 5
}
