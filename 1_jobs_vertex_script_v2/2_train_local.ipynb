{
 "cells": [
  {
   "cell_type": "markdown",
   "id": "cf5d89cc-39c4-44e4-8d9f-68eee8fd7e59",
   "metadata": {
    "tags": []
   },
   "source": [
    "### DESARROLLO LOCAL"
   ]
  },
  {
   "cell_type": "code",
   "execution_count": null,
   "id": "427214b2-b40e-4639-a387-a8ea723f00d4",
   "metadata": {},
   "outputs": [],
   "source": [
    "import pandas as pd\n",
    "from google.cloud import bigquery\n",
    "import gcsfs\n",
    "import numpy as np\n",
    "from sklearn.linear_model import LinearRegression\n",
    "from sklearn.metrics import r2_score\n",
    "import sklearn\n",
    "import sys\n",
    "\n",
    "print(\"Versión de Python:\", sys.version)\n",
    "print(\"Versión de Pandas:\", pd.__version__)\n",
    "print(\"Versión de Numpy:\", np.__version__)\n",
    "print(\"Versión de Scikit-learn:\", sklearn.__version__)\n",
    "print(\"Versión de google-cloud-bigquery:\", bigquery.__version__)\n",
    "print(\"Version de gcsfs: \", gcsfs.__version__)"
   ]
  },
  {
   "cell_type": "code",
   "execution_count": null,
   "id": "2063b1cf-6581-46a8-ae39-bc65ee520c69",
   "metadata": {},
   "outputs": [],
   "source": [
    "import os\n",
    "from dotenv import load_dotenv, find_dotenv # package used in jupyter notebook to read the variables in file .env\n",
    "\n",
    "\"\"\" get env variable from .env \"\"\"\n",
    "load_dotenv(find_dotenv())\n",
    "\n",
    "\"\"\" Read env variables and save it as python variable \"\"\"\n",
    "PROJECT_ID_DS = os.environ.get(\"PROJECT_GCP\", \"\")"
   ]
  },
  {
   "cell_type": "code",
   "execution_count": null,
   "id": "903f47fb-0146-411f-a9ab-a4965bdd5740",
   "metadata": {},
   "outputs": [],
   "source": []
  },
  {
   "cell_type": "code",
   "execution_count": null,
   "id": "7b2141e0-662e-44a3-8911-85a61eab793f",
   "metadata": {},
   "outputs": [],
   "source": [
    "BUCKET_NAME = '{bucket-name}'"
   ]
  },
  {
   "cell_type": "code",
   "execution_count": null,
   "id": "4766eac0-4649-49c5-be37-966548748d85",
   "metadata": {},
   "outputs": [],
   "source": []
  },
  {
   "cell_type": "markdown",
   "id": "2f977520-7ca8-45dc-82d7-563d8afd0f3f",
   "metadata": {},
   "source": [
    "### CARGAR DATOS PKL EN STORAGE"
   ]
  },
  {
   "cell_type": "code",
   "execution_count": null,
   "id": "b3884bca-9661-4930-a3e0-dc3c977d24e1",
   "metadata": {},
   "outputs": [],
   "source": [
    "## utilizar gcsfs para utilizar GCS como si fuera local\n",
    "path_data = f'gs://{BUCKET_NAME}/poc-jobs-vertex/data.pkl'\n",
    "\n",
    "import gcsfs\n",
    "import pickle\n",
    "fs = gcsfs.GCSFileSystem(PROJECT_ID_DS)\n",
    "with fs.open(path_data, 'rb') as f:\n",
    "    data = pickle.load(f)"
   ]
  },
  {
   "cell_type": "code",
   "execution_count": null,
   "id": "7a0747fe-e50a-42d4-8243-69ff9086df45",
   "metadata": {},
   "outputs": [],
   "source": [
    "## leer data desde pd read pickle\n",
    "data = pd.read_pickle(path_data)"
   ]
  },
  {
   "cell_type": "code",
   "execution_count": null,
   "id": "36b2efab-d108-4a9a-8655-700891dd6f39",
   "metadata": {},
   "outputs": [],
   "source": [
    "data"
   ]
  },
  {
   "cell_type": "code",
   "execution_count": null,
   "id": "dfc3561e-3151-40b3-bb23-a7fd9727302d",
   "metadata": {},
   "outputs": [],
   "source": []
  },
  {
   "cell_type": "markdown",
   "id": "32f0b72e-88f8-41d7-911b-4bdbf37a49e2",
   "metadata": {},
   "source": [
    "### Separar en \"x\" \"y\""
   ]
  },
  {
   "cell_type": "code",
   "execution_count": null,
   "id": "aff7062c-f6b7-4af6-8fd3-82eea50d75d9",
   "metadata": {},
   "outputs": [],
   "source": [
    "x = data[['feature_1', 'feature_2', 'feature_3']]\n",
    "y = data[['target']]"
   ]
  },
  {
   "cell_type": "code",
   "execution_count": null,
   "id": "236e4226-ba24-4cd1-8811-645c73277d64",
   "metadata": {},
   "outputs": [],
   "source": []
  },
  {
   "cell_type": "code",
   "execution_count": null,
   "id": "709ca1a3-d4e3-4927-8b87-b7de36b8dac6",
   "metadata": {},
   "outputs": [],
   "source": []
  },
  {
   "cell_type": "markdown",
   "id": "3c814c85-e163-460f-8fd7-45d8b210ddcb",
   "metadata": {},
   "source": [
    "### TRAIN MODEL"
   ]
  },
  {
   "cell_type": "code",
   "execution_count": null,
   "id": "d9a53343-453b-4bbf-ad01-8456c0d2720f",
   "metadata": {},
   "outputs": [],
   "source": [
    "model = LinearRegression()\n",
    "model.fit(x,y)"
   ]
  },
  {
   "cell_type": "code",
   "execution_count": null,
   "id": "17394013-8be7-40f4-8f00-713bc76cf8d3",
   "metadata": {},
   "outputs": [],
   "source": [
    "y_predicted = model.predict(x)"
   ]
  },
  {
   "cell_type": "markdown",
   "id": "05d27ab2-7597-4c50-8b77-b9b9dba6ff15",
   "metadata": {},
   "source": [
    "### Evaluar model"
   ]
  },
  {
   "cell_type": "code",
   "execution_count": null,
   "id": "519e83d2-9a89-4fc4-be9a-6acf912d727d",
   "metadata": {},
   "outputs": [],
   "source": [
    "r2_score(y_true = y,\n",
    "         y_pred = y_predicted)"
   ]
  },
  {
   "cell_type": "code",
   "execution_count": null,
   "id": "0b0db6a1-0447-43eb-8395-d5b38f4efb72",
   "metadata": {},
   "outputs": [],
   "source": []
  },
  {
   "cell_type": "markdown",
   "id": "48d5ac9c-612f-4497-8f5f-2504439e841e",
   "metadata": {},
   "source": [
    "### Guardar modelo entrenado"
   ]
  },
  {
   "cell_type": "code",
   "execution_count": null,
   "id": "e7369b1b-5a19-4ab3-9a57-a33f09e7b977",
   "metadata": {},
   "outputs": [],
   "source": []
  },
  {
   "cell_type": "code",
   "execution_count": null,
   "id": "585206f7-3a82-4509-89a5-94669b2cd2c2",
   "metadata": {},
   "outputs": [],
   "source": []
  },
  {
   "cell_type": "markdown",
   "id": "aabdbb9c-6558-4833-9194-db627d2cdc2c",
   "metadata": {},
   "source": [
    "### Guardar modelo entrenado para ser registrado en vertex models"
   ]
  },
  {
   "cell_type": "code",
   "execution_count": null,
   "id": "65a3b15b-5db0-4044-a5f2-f3744120545b",
   "metadata": {},
   "outputs": [],
   "source": [
    "import pickle\n",
    "import os\n",
    "from google.cloud import storage"
   ]
  },
  {
   "cell_type": "code",
   "execution_count": null,
   "id": "355be0f5-3de7-43d0-b939-f1c08e98d17a",
   "metadata": {},
   "outputs": [],
   "source": [
    "\"\"\"\n",
    "######## ESTA ES LA ÚNICA PARTE PARA TENER CUIDADO PARA QUE EL SCRIPT FUNCIONE TANTO EN UN ENTRENAMIENTO LOCAL COMO GCP ########\n",
    "- Para que el modelo entrenado quede registrado en el menú \"MODELS\" de Vertex (artefacto del modelo obligatoriamente con el nombre \"model.pkl\") debe ser guardado en un bucket de GCS definido\n",
    "por un path creado automático al enviar el job de entrenamiento en una variable de ambiente \"AIP_MODEL_DIR\" que solo existe cuando se corre el job de entrenamiento en Vertex. \n",
    "\n",
    "- Cuando se corre localmente la variable de ambiente no existe, por lo tanto, retorna un path: None\n",
    "\n",
    "- Ejemplo path cloud: gs://{bucket-name}/aiplatform-custom-training-2022-05-01-13:27:34.025/model/\n",
    "\"\"\"\n",
    "\n",
    "# Save model artifact to local filesystem (doesn't persist)\n",
    "artifact_filename = 'model.pkl'\n",
    "local_path = artifact_filename\n",
    "with open(local_path, 'wb') as model_file:\n",
    "    pickle.dump(model, model_file)\n",
    "print('modelo guardado local')\n",
    "\n",
    "# Upload model artifact to Cloud Storage - try: guardar en path var de ambiente cuando se corre en cloud y registrar en vertex // except: retornar error cuando no existe path var de ambiente\n",
    "path_artifact_model_vertex = f'gs://{BUCKET_NAME}/poc-jobs-vertex/modeltypeA/run_000/model/'\n",
    "print('path del modelo a GCS - path_custom: ', path_artifact_model_vertex)\n",
    "\n",
    "try:\n",
    "    model_directory = path_artifact_model_vertex\n",
    "    storage_path = os.path.join(model_directory, artifact_filename)\n",
    "    blob = storage.blob.Blob.from_string(storage_path, client=storage.Client())\n",
    "    blob.upload_from_filename(local_path)\n",
    "except Exception as e: \n",
    "    print('Error: ', str(e))\n",
    "    print('MODELO NO GUARDADO EN GCS')"
   ]
  },
  {
   "cell_type": "code",
   "execution_count": null,
   "id": "d5a7aa92-8bb4-496a-aa7c-53bd48c5c9ac",
   "metadata": {},
   "outputs": [],
   "source": []
  },
  {
   "cell_type": "code",
   "execution_count": null,
   "id": "33f89057-e9b6-4688-830b-3e36dc9127cb",
   "metadata": {},
   "outputs": [],
   "source": [
    "# eliminar modelo guardado en el local\n",
    "os.remove('model.pkl')"
   ]
  },
  {
   "cell_type": "code",
   "execution_count": null,
   "id": "6c97ec1b-2388-45c8-b062-cc751df3c7a6",
   "metadata": {},
   "outputs": [],
   "source": []
  }
 ],
 "metadata": {
  "environment": {
   "kernel": "python3",
   "name": "common-cpu.m108",
   "type": "gcloud",
   "uri": "gcr.io/deeplearning-platform-release/base-cpu:m108"
  },
  "kernelspec": {
   "display_name": "Python 3 (ipykernel)",
   "language": "python",
   "name": "python3"
  },
  "language_info": {
   "codemirror_mode": {
    "name": "ipython",
    "version": 3
   },
   "file_extension": ".py",
   "mimetype": "text/x-python",
   "name": "python",
   "nbconvert_exporter": "python",
   "pygments_lexer": "ipython3",
   "version": "3.10.14"
  }
 },
 "nbformat": 4,
 "nbformat_minor": 5
}
