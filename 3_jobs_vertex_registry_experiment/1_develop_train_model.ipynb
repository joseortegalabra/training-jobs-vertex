{
 "cells": [
  {
   "cell_type": "markdown",
   "id": "9040a421-c46b-4af7-8b56-c85a245238a9",
   "metadata": {},
   "source": [
    "# DEVELOP CODE TO TRAIN USING \"VERTEX JOBS\" AND REGISTRY IN \"VERTEX EXPERIMENTS\"\n",
    "\n",
    "-------\n",
    "Source codes tracking training: \n",
    "\n",
    "folder: https://github.com/joseortegalabra/tracking-training-ml-models/tree/main/vertex_ai\n",
    "\n",
    "notebook: https://github.com/joseortegalabra/tracking-training-ml-models/blob/main/vertex_ai/3_Vertex_AI_experiments_example.ipynb\n",
    "\n",
    "\n",
    "------\n",
    "Source codes jobs vertex:\n",
    "\n",
    "repo: https://github.com/joseortegalabra/Jobs-Vertex-GCP\n",
    "\n",
    "folder example: https://github.com/joseortegalabra/Jobs-Vertex-GCP/tree/main/jobs_vertex_basic_v2"
   ]
  },
  {
   "cell_type": "code",
   "execution_count": null,
   "id": "9f974c27-26a7-4c6a-b76d-aeb43718dac4",
   "metadata": {},
   "outputs": [],
   "source": []
  },
  {
   "cell_type": "code",
   "execution_count": null,
   "id": "6163cbd5-e717-4357-b2d3-2f975f22a96f",
   "metadata": {},
   "outputs": [],
   "source": []
  },
  {
   "cell_type": "markdown",
   "id": "f7609fbb-02e6-44c8-a84a-e9d3ae7d086f",
   "metadata": {},
   "source": [
    "## RUN"
   ]
  },
  {
   "cell_type": "code",
   "execution_count": null,
   "id": "bf4ba773-2620-40ad-8793-8eefc4e4b402",
   "metadata": {},
   "outputs": [],
   "source": [
    "import pandas as pd\n",
    "from google.cloud import bigquery\n",
    "import gcsfs\n",
    "import pickle\n",
    "import numpy as np\n",
    "from sklearn.linear_model import LinearRegression\n",
    "from sklearn.tree import DecisionTreeRegressor\n",
    "from sklearn.metrics import r2_score\n",
    "import sklearn\n",
    "import sys\n",
    "import os\n",
    "from google.cloud import storage\n",
    "import argparse\n",
    "from google.cloud import aiplatform as vertex_ai\n",
    "import matplotlib.pyplot as plt\n",
    "\n",
    "from sklearn.metrics import mean_squared_error\n",
    "from sklearn.metrics import r2_score\n",
    "from sklearn.metrics import mean_absolute_error"
   ]
  },
  {
   "cell_type": "code",
   "execution_count": null,
   "id": "fa1615bd-83dd-44d8-9403-8494e3a59b18",
   "metadata": {},
   "outputs": [],
   "source": [
    "print(\"Versión de Python:\", sys.version)\n",
    "print(\"Versión de Pandas:\", pd.__version__)\n",
    "print(\"Versión de Numpy:\", np.__version__)\n",
    "print(\"Versión de Scikit-learn:\", sklearn.__version__)\n",
    "print(\"Versión de google-cloud-bigquery:\", bigquery.__version__)\n",
    "print(\"Version de gcsfs: \", gcsfs.__version__)"
   ]
  },
  {
   "cell_type": "code",
   "execution_count": null,
   "id": "a2fc4087-c683-4cc6-ae18-4b16a09c8b2c",
   "metadata": {},
   "outputs": [],
   "source": []
  },
  {
   "cell_type": "code",
   "execution_count": null,
   "id": "421458f8-bf61-413d-843d-b1bd2ee8b7f6",
   "metadata": {},
   "outputs": [],
   "source": [
    "import os\n",
    "from dotenv import load_dotenv, find_dotenv # package used in jupyter notebook to read the variables in file .env\n",
    "\n",
    "\"\"\" get env variable from .env \"\"\"\n",
    "load_dotenv(find_dotenv())\n",
    "\n",
    "\"\"\" Read env variables and save it as python variable \"\"\"\n",
    "PROJECT_ID_DS = os.environ.get(\"PROJECT_GCP\", \"\")"
   ]
  },
  {
   "cell_type": "code",
   "execution_count": null,
   "id": "69d6ca8d-876e-49ec-977a-7ede090b83f7",
   "metadata": {},
   "outputs": [],
   "source": []
  },
  {
   "cell_type": "markdown",
   "id": "86e71fcf-0742-483a-b9f7-7076dd1c89a2",
   "metadata": {},
   "source": [
    "### 1. Read parameters"
   ]
  },
  {
   "cell_type": "code",
   "execution_count": null,
   "id": "f4a237b0-aa26-4d98-a6ff-ac1884b8aa7e",
   "metadata": {},
   "outputs": [],
   "source": [
    "BUCKET_NAME = '{bucket-name}' # bucket artifacts\n",
    "REGION = '{region}' # region\n",
    "EXPERIMENT_NAME_REGISTRY = 'jobs-registry-vertex' # name of the experiment in \"VERTEX EXPERIMENT\" where the run of trainning model was saved"
   ]
  },
  {
   "cell_type": "code",
   "execution_count": null,
   "id": "ccf42a89-40ac-4376-bba5-635206f207e3",
   "metadata": {},
   "outputs": [],
   "source": []
  },
  {
   "cell_type": "markdown",
   "id": "5aa3d6fc-a185-4cc9-90ba-85039cad49c7",
   "metadata": {},
   "source": [
    "### 2. Load data saved in GCS"
   ]
  },
  {
   "cell_type": "code",
   "execution_count": null,
   "id": "1cc6f9dc-69cc-4852-8201-f648b4f94cb3",
   "metadata": {},
   "outputs": [],
   "source": [
    "## utilizar gcsfs para utilizar GCS como si fuera local\n",
    "print('leer data pkl')\n",
    "path_data = f'gs://{BUCKET_NAME}/poc-jobs-vertex/data.pkl'\n",
    "data = pd.read_pickle(path_data)\n",
    "\n",
    "### Separar en \"x\" \"y\" ###\n",
    "X = data[['feature_1', 'feature_2', 'feature_3']]\n",
    "y = data[['target']]"
   ]
  },
  {
   "cell_type": "code",
   "execution_count": null,
   "id": "6230c7cd-840c-433d-bbe2-60cdef6f15f6",
   "metadata": {},
   "outputs": [],
   "source": []
  },
  {
   "cell_type": "code",
   "execution_count": null,
   "id": "fe094825-1374-44fb-a5a5-e4c6742229f0",
   "metadata": {},
   "outputs": [],
   "source": []
  },
  {
   "cell_type": "markdown",
   "id": "b7380510-feea-4734-bd3d-6868419bd45b",
   "metadata": {},
   "source": [
    "### 6. Train Model"
   ]
  },
  {
   "cell_type": "markdown",
   "id": "9b02a0a8-d88a-4983-883d-fb99c00845d7",
   "metadata": {},
   "source": [
    "#### 6.1 Auxiliar functions - evaluate models"
   ]
  },
  {
   "cell_type": "code",
   "execution_count": null,
   "id": "ead9b12f-0586-462c-9c48-4735655c7467",
   "metadata": {},
   "outputs": [],
   "source": [
    "# metrics to evaluate model\n",
    "def evaluate_model(y_true, y_predicted):\n",
    "    \"\"\"\n",
    "    Given \"y_true\" and \"y_predicted\" calculate metrics of performance (r2, rmse, mae)\n",
    "    \"\"\"\n",
    "    r2_metric = r2_score(y_true, y_predicted)\n",
    "\n",
    "    rmse_metric = mean_squared_error(y_true, y_predicted, squared = False)\n",
    "\n",
    "    mae_metric = mean_absolute_error(y_true, y_predicted)\n",
    "\n",
    "    print(\"r2: \", r2_metric)\n",
    "    print(\"rmse: \", rmse_metric)\n",
    "    print(\"mae_metric: \", mae_metric)\n",
    "    return r2_metric, rmse_metric, mae_metric"
   ]
  },
  {
   "cell_type": "code",
   "execution_count": null,
   "id": "b1b5cd72-7413-4647-b428-e3b2ffeff643",
   "metadata": {},
   "outputs": [],
   "source": [
    "# plot to evaluate model y_true vs y_pred\n",
    "def plot_y_true_vs_y_pred(y, y_pred, title_plot):\n",
    "    \"\"\"\n",
    "    Plot y_true vs y_pred (using matplotlib figure). y_true in X-axis, y_pred in Y-axis.\n",
    "\n",
    "    Args:\n",
    "        y (dataframe): dataframe with y-true values \n",
    "        y_pred (dataframe): dataframe with y-pred values\n",
    "        title_plot (string): tittle in the plot\n",
    "    \n",
    "    Return\n",
    "        fig (figure matplolib): figure to show, download, etc\n",
    "    \"\"\"\n",
    "    fig, ax = plt.subplots()\n",
    "    scatter_plot = ax.scatter(y, y_pred, alpha=0.3, marker='x', label='y_true vs y_pred')\n",
    "\n",
    "    # Add bisectriz\n",
    "    y_bisectriz = x_bisectriz = np.linspace(y.min()[0], y.max()[0], y.shape[0])\n",
    "    ax.plot(x_bisectriz, y_bisectriz, label='Bisectriz', color='red', alpha=0.3)\n",
    "\n",
    "    # Add names to axis\n",
    "    ax.set_xlabel('Y true')\n",
    "    ax.set_ylabel('Y pred')\n",
    "    \n",
    "    ax.set_title(title_plot)\n",
    "    ax.legend()\n",
    "\n",
    "\n",
    "    # save fig, return the local path and close fig\n",
    "    name_y_true_y_pred = 'y_true_y_pred.png'\n",
    "    plt.savefig(name_y_true_y_pred)\n",
    "    plt.close()\n",
    "    \n",
    "    return fig, name_y_true_y_pred"
   ]
  },
  {
   "cell_type": "code",
   "execution_count": null,
   "id": "dae9aa39-1512-4241-88c6-cad37a545a14",
   "metadata": {},
   "outputs": [],
   "source": []
  },
  {
   "cell_type": "markdown",
   "id": "b85befeb-b078-4c40-ba49-e3c2e3b6d36d",
   "metadata": {},
   "source": [
    "#### 6.2 Auxiliar functions - registry experiments in vertex"
   ]
  },
  {
   "cell_type": "code",
   "execution_count": null,
   "id": "075f79d7-da26-44b2-b9e8-7e66f7ecf0c9",
   "metadata": {},
   "outputs": [],
   "source": [
    "def create_instance_tensorboard(experiment_name, experiment_description, PROJECT_ID_DS, location_gcp):\n",
    "    \"\"\"\n",
    "    Create a vertex tensorboard instance. The instance of tensorboard is created with the idea to have the same name of the experiment of vertex ai\n",
    "    that will use this instance of vertex tensorboard.\n",
    "\n",
    "    Obs: This code create always a tensorboard instance, with the same name (display_name) but different ID, so it is necessary RUN ONCE\n",
    "    \n",
    "    Args\n",
    "        experiment_name (string)\n",
    "        experiment_description (string)\n",
    "        PROJECT_ID_DS (string)\n",
    "        location_gcp (string)\n",
    "\n",
    "    Return\n",
    "        id_experiment_tensorboard (vertex ai tensorboard object)\n",
    "    \"\"\"\n",
    "    id_tensorboard_vertex = vertex_ai.Tensorboard.create(display_name = f'tensorboard-{experiment_name}',\n",
    "                                                          description = f'tensorboard-{experiment_description}',\n",
    "                                                          project = PROJECT_ID_DS,\n",
    "                                                          location = location_gcp\n",
    "                                                         )\n",
    "    return id_tensorboard_vertex"
   ]
  },
  {
   "cell_type": "code",
   "execution_count": null,
   "id": "22148535-4370-432c-80ce-6ed6a5cc3584",
   "metadata": {},
   "outputs": [],
   "source": [
    "def get_tensorboard_instance_or_create(experiment_name, experiment_description, PROJECT_ID_DS, location_gcp):\n",
    "    \"\"\"\n",
    "    Search if exist a tensorboard instance and get it. If the instance doesn't exist, create it.\n",
    "    The instance of tensorboard has its name with the idea to have the same name of the experiment of vertex ai that will use this instance\n",
    "    of vertex.\n",
    "\n",
    "    Args\n",
    "        experiment_name (string)\n",
    "        experiment_description (string)\n",
    "        PROJECT_ID_DS (string)\n",
    "        location_gcp (string)\n",
    "\n",
    "    Return\n",
    "        id_experiment_tensorboard (vertex ai tensorboard object)\n",
    "    \"\"\"\n",
    "    \n",
    "    ''' search tensorboard instance. if the list is empty the tensorboard instance doesn't exist and it will created '''\n",
    "    # GET tensorboard instance created FILTERING by display name. return a list of the instance doesn't exist return a empty list\n",
    "    list_tensorboard_vertex = vertex_ai.Tensorboard.list(\n",
    "        filter = f'display_name=\"tensorboard-{experiment_name}\"',\n",
    "        project = PROJECT_ID_DS,\n",
    "        location = location_gcp\n",
    "    )\n",
    "\n",
    "    # if vertex tensorboard instance doesn't exist, create it\n",
    "    if len(list_tensorboard_vertex) == 0:\n",
    "        print('--- creating vertex tensorboard instance ---')\n",
    "        id_tensorboard_vertex = vertex_ai.Tensorboard.create(display_name = f'tensorboard-{experiment_name}',\n",
    "                                                                 description = f'tensorboard-{experiment_description}',\n",
    "                                                                 project = PROJECT_ID_DS,\n",
    "                                                                 location = location_gcp\n",
    "                                                                ) # return tensorboard instance created\n",
    "    else:\n",
    "        print('--- tensorboard instance already exists ---')\n",
    "        id_tensorboard_vertex = list_tensorboard_vertex[0] # tensorboard instance exists, return it\n",
    "    \n",
    "    return id_tensorboard_vertex"
   ]
  },
  {
   "cell_type": "code",
   "execution_count": null,
   "id": "84ffc806-0792-43b5-a8b0-aa3c6c479a92",
   "metadata": {},
   "outputs": [],
   "source": [
    "def save_local_to_gcs(uri_gcs, uri_local):\n",
    "    \"\"\"\n",
    "    AUXILIAR. Save a locally file onto GCS.\n",
    "    Args:\n",
    "        uri_gcs (string): path in gcs where the local file will be saved\n",
    "        uri_local (strring). path in local where the local file was saved\n",
    "\n",
    "    Return\n",
    "        nothing\n",
    "    \"\"\"\n",
    "\n",
    "    blob = storage.blob.Blob.from_string(uri_gcs, client=storage.Client())\n",
    "    blob.upload_from_filename(uri_local)"
   ]
  },
  {
   "cell_type": "code",
   "execution_count": null,
   "id": "4ec18523-1e95-42f6-ad6d-d3ce9a1ea821",
   "metadata": {},
   "outputs": [],
   "source": [
    "def save_artifacts_experiments_vertex(path_artifact_locally, type_artifact, bucket_gcs, experiment_name, run_name):\n",
    "    \"\"\"\n",
    "    Save an artifact in experiments in vertex. This functions works for an individual artifact. The run of the experiment needs to be created\n",
    "    The input is a file saved locally and the output is the file registered as a artifact of a run of a vertex experiment\n",
    "    \n",
    "    There following steps are necesarys to save the artifact\n",
    "    - save artifact locally\n",
    "    - save artifact in GCS\n",
    "    - link the artifact in GCS with vertex metadata\n",
    "    - link vertex metadata with an artifact saved in a run (experiment vertex)\n",
    "    - delete the file locally\n",
    "    \"\"\"\n",
    "\n",
    "    # 1. save artifact locally (done -input function)\n",
    "\n",
    "\n",
    "    # 2. save artifact in GCS\n",
    "    path_artifact_gcs = f'gs://{bucket_gcs}/{experiment_name}/{run_name}/{path_artifact_locally}'\n",
    "    save_local_to_gcs(uri_gcs = path_artifact_gcs, \n",
    "                      uri_local = path_artifact_locally)\n",
    "\n",
    "    \n",
    "    # 3. link the artifact in GCS with vertex metadata\n",
    "    path_artifact_locally_corrected = path_artifact_locally.replace('_', '-').replace('.', '-') # in the name only accepted \"-\"\n",
    "    path_artifact_locally_corrected = path_artifact_locally_corrected.lower() # in the name only acceted lower case [a-z0-9][a-z0-9-]{0,127}\n",
    "    \n",
    "    \n",
    "    artifact_metadata = vertex_ai.Artifact.create(\n",
    "        schema_title = \"system.Artifact\", \n",
    "        uri = path_artifact_gcs, # \n",
    "        display_name = f\"artifact-{path_artifact_locally}\", # nombre con el que se muestra en el menu \"metadata\"\n",
    "        description = f\"description-{path_artifact_locally}\",\n",
    "        resource_id = f\"{path_artifact_locally_corrected}-{experiment_name}-{run_name}\"  # nombre con el que se muestra en el menu \"artifact del run del experimento\" de vertex. No acepta espacios\n",
    "        )\n",
    "\n",
    "\n",
    "    # 4. link vertex metadata with an artifact saved in a run \n",
    "    executions = vertex_ai.start_execution(\n",
    "        schema_title=\"system.ContainerExecution\", \n",
    "        display_name='REGISTRO DE ARTIFACTS'\n",
    "    )\n",
    "    executions.assign_input_artifacts([artifact_metadata])\n",
    "\n",
    "    \n",
    "    # 5. delete the file local\n",
    "    #os.remove(path_artifact_locally)"
   ]
  },
  {
   "cell_type": "code",
   "execution_count": null,
   "id": "6b8c40e9-5416-4fdb-90be-163bd47435c5",
   "metadata": {},
   "outputs": [],
   "source": []
  },
  {
   "cell_type": "markdown",
   "id": "1ea3daed-d145-453f-a27b-ceed3d1d9401",
   "metadata": {},
   "source": [
    "#### 6.3 Define parameters of vertex experiment"
   ]
  },
  {
   "cell_type": "code",
   "execution_count": null,
   "id": "b573806d-a6a0-411d-b67e-1bd13b00abb4",
   "metadata": {},
   "outputs": [],
   "source": [
    "# PARAMETERS GCP\n",
    "# read env variables (in this notebook there are defined previosly)\n",
    "PROJECT_ID_DS\n",
    "REGION\n",
    "BUCKET_NAME"
   ]
  },
  {
   "cell_type": "code",
   "execution_count": null,
   "id": "cc25157b-63ee-4c28-88b2-6ab9193b5c81",
   "metadata": {},
   "outputs": [],
   "source": [
    "# PARAMETERS TO CREATE AN EXPERIMENT IN VERTEX AI\n",
    "# obs: In names only are accepted '[a-z0-9][a-z0-9-]{0,127}'\n",
    "EXPERIMENT_NAME = EXPERIMENT_NAME_REGISTRY # the name of the vertex experiment is the name of the dataset\n",
    "EXPERIMENT_DESCRIPTION = f'Develop job vertex with registry in vertex experiment. Run forecasting models of a target'"
   ]
  },
  {
   "cell_type": "code",
   "execution_count": null,
   "id": "135c6ab7-7907-4b9b-9b13-ab45bb6b78a4",
   "metadata": {},
   "outputs": [],
   "source": [
    "EXPERIMENT_NAME"
   ]
  },
  {
   "cell_type": "code",
   "execution_count": null,
   "id": "ae079698-e28c-4a5d-8c4b-82e600ad7f06",
   "metadata": {},
   "outputs": [],
   "source": []
  },
  {
   "cell_type": "markdown",
   "id": "f9e25e24-0d45-4786-be29-9b8ad2124e49",
   "metadata": {},
   "source": [
    "#### 6.4 Set experiment vertex"
   ]
  },
  {
   "cell_type": "code",
   "execution_count": null,
   "id": "534a1f30-131d-4525-80e6-756bbd9a4291",
   "metadata": {},
   "outputs": [],
   "source": [
    "# search tensorboard instance, if it doesn't exist -> created it\n",
    "id_tensorboard_vertex = get_tensorboard_instance_or_create(experiment_name = EXPERIMENT_NAME,\n",
    "                                                           experiment_description = EXPERIMENT_DESCRIPTION,\n",
    "                                                           PROJECT_ID_DS = PROJECT_ID_DS,\n",
    "                                                           location_gcp = REGION\n",
    "                                                          )\n",
    "\n",
    "# set experiment (or created if it doesn't exist - automatically)\n",
    "print('\\n--- setting experiment vertex ai ---')\n",
    "vertex_ai.init(\n",
    "    experiment = EXPERIMENT_NAME,\n",
    "    experiment_description = EXPERIMENT_DESCRIPTION,\n",
    "    experiment_tensorboard = id_tensorboard_vertex,\n",
    "    project = PROJECT_ID_DS,\n",
    "    location = REGION,\n",
    "    )"
   ]
  },
  {
   "cell_type": "code",
   "execution_count": null,
   "id": "f8676cf2-13a2-4594-b46a-13ff2c4f710a",
   "metadata": {},
   "outputs": [],
   "source": []
  },
  {
   "cell_type": "markdown",
   "id": "f2bc09bd-95d7-4f27-a6c4-139b68db0f94",
   "metadata": {},
   "source": [
    "#### 6.5 train model - linear regression (lr)"
   ]
  },
  {
   "cell_type": "code",
   "execution_count": null,
   "id": "4b3445db-1a55-4458-9114-142b87a9d29d",
   "metadata": {},
   "outputs": [],
   "source": [
    "\"\"\" RUN NAME IN EXPERIMENT \"\"\"\n",
    "RUN_NAME = \"run-test-job1\"\n",
    "print('---- trainning model: ', RUN_NAME)\n",
    "\n",
    "\n",
    "\"\"\" train model \"\"\"\n",
    "# define params to save. In a dicctionary\n",
    "params_training = {\n",
    "    'max_depth': 15,\n",
    "    'min_samples_split': 10,\n",
    "    'min_samples_leaf': 10,\n",
    "    'random_state': 42\n",
    "}\n",
    "\n",
    "# create model - train it - evaluate it\n",
    "tree = DecisionTreeRegressor(**params_training) # create model\n",
    "tree.fit(X, y) # train\n",
    "y_predicted = tree.predict(X) # predict\n",
    "r2_tree, rmse_tree, mae_tree = evaluate_model(y, y_predicted) # evaluate metrics\n",
    "plot_y_true_y_pred, path_y_true_y_pred = plot_y_true_vs_y_pred(y = y, y_pred = y_predicted, title_plot = f'model: {RUN_NAME}') # Ytrue_vs_Ypred\n",
    "\n",
    "\n",
    "\"\"\" registry run in experiment \"\"\"\n",
    "# create a run\n",
    "vertex_ai.start_run(RUN_NAME)\n",
    "\n",
    "# parameters of the model trained\n",
    "vertex_ai.log_params(params_training)\n",
    "\n",
    "# define metrics to save. In a dicctionary\n",
    "metrics_to_save = {\n",
    "    'r2': r2_tree,\n",
    "    'rmse': rmse_tree,\n",
    "    'mae': mae_tree\n",
    "}\n",
    "\n",
    "# save metrics\n",
    "vertex_ai.log_metrics(metrics_to_save)\n",
    "\n",
    "# save graphs\n",
    "print('saving plot y_true vs y_pred ...')\n",
    "save_artifacts_experiments_vertex(path_artifact_locally = path_y_true_y_pred, # plot y_true vs y_pred\n",
    "                                  type_artifact = 'artifact', \n",
    "                                  bucket_gcs = BUCKET_NAME, \n",
    "                                  experiment_name = EXPERIMENT_NAME, \n",
    "                                  run_name = RUN_NAME\n",
    "                                 )\n",
    "\n",
    "# save model (but not registry)\n",
    "print('saving model ...')\n",
    "model_name = 'model.pkl'\n",
    "with open(model_name, \"wb\") as output: # save locally\n",
    "    pickle.dump(tree, output)\n",
    "    output.close()\n",
    "save_artifacts_experiments_vertex(path_artifact_locally = model_name,\n",
    "                                  type_artifact = 'artifact', \n",
    "                                  bucket_gcs = BUCKET_NAME, \n",
    "                                  experiment_name = EXPERIMENT_NAME, \n",
    "                                  run_name = RUN_NAME\n",
    "                                 )\n",
    "\n",
    "# save X\n",
    "print('saving X ...')\n",
    "artifact_data = 'X.pkl' # change path\n",
    "with open(artifact_data, \"wb\") as output: \n",
    "    pickle.dump(X, output)# change python variable with artifact\n",
    "    output.close()\n",
    "save_artifacts_experiments_vertex(path_artifact_locally = artifact_data,\n",
    "                                  type_artifact = 'artifact', \n",
    "                                  bucket_gcs = BUCKET_NAME, \n",
    "                                  experiment_name = EXPERIMENT_NAME, \n",
    "                                  run_name = RUN_NAME\n",
    "                                 )\n",
    "\n",
    "# save y\n",
    "print('saving y ...')\n",
    "artifact_data = 'y.pkl' # change path\n",
    "with open(artifact_data, \"wb\") as output: \n",
    "    pickle.dump(y, output) # change python variable with artifact\n",
    "    output.close()\n",
    "save_artifacts_experiments_vertex(path_artifact_locally = artifact_data,\n",
    "                                  type_artifact = 'artifact', \n",
    "                                  bucket_gcs = BUCKET_NAME, \n",
    "                                  experiment_name = EXPERIMENT_NAME, \n",
    "                                  run_name = RUN_NAME\n",
    "                                 )\n",
    "\n",
    "### terminar run\n",
    "vertex_ai.end_run()"
   ]
  },
  {
   "cell_type": "code",
   "execution_count": null,
   "id": "b448c8b0-e106-4869-8a77-05a2b574e02c",
   "metadata": {},
   "outputs": [],
   "source": []
  },
  {
   "cell_type": "code",
   "execution_count": null,
   "id": "a2bc9a89-4e28-4f29-818b-af692b56f705",
   "metadata": {},
   "outputs": [],
   "source": []
  },
  {
   "cell_type": "markdown",
   "id": "7e05a061-86d6-4329-8672-060b5febea9f",
   "metadata": {},
   "source": [
    "### 8. delete local fileset)"
   ]
  },
  {
   "cell_type": "code",
   "execution_count": null,
   "id": "a5648133-ae71-459c-ae72-3f5939dc00b8",
   "metadata": {},
   "outputs": [],
   "source": [
    "import os\n",
    "os.remove(model_name)\n",
    "os.remove(path_y_true_y_pred)\n",
    "os.remove('X.pkl')\n",
    "os.remove('y.pkl')"
   ]
  },
  {
   "cell_type": "code",
   "execution_count": null,
   "id": "c220f3d7-e4d9-43f1-87f1-2d90120cc731",
   "metadata": {},
   "outputs": [],
   "source": []
  },
  {
   "cell_type": "code",
   "execution_count": null,
   "id": "3d1d6320-4f76-4c60-b97d-4df037af838e",
   "metadata": {},
   "outputs": [],
   "source": []
  }
 ],
 "metadata": {
  "kernelspec": {
   "display_name": "Python 3 (ipykernel)",
   "language": "python",
   "name": "python3"
  },
  "language_info": {
   "codemirror_mode": {
    "name": "ipython",
    "version": 3
   },
   "file_extension": ".py",
   "mimetype": "text/x-python",
   "name": "python",
   "nbconvert_exporter": "python",
   "pygments_lexer": "ipython3",
   "version": "3.10.14"
  }
 },
 "nbformat": 4,
 "nbformat_minor": 5
}
