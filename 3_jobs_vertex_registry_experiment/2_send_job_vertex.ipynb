{
 "cells": [
  {
   "attachments": {},
   "cell_type": "markdown",
   "id": "7c7fc6d8-2b5a-4b54-9d04-d6aad474045e",
   "metadata": {},
   "source": [
    "# Enviar job de Vertex\n",
    "Enviar job de vertex para el entrenamiento del modelo en cloud\n",
    "\n",
    "**This notebook has the same codes and comments showed in the previous folders of send jobs using pyton scripts. So, in this example all the comments were deleted**"
   ]
  },
  {
   "cell_type": "code",
   "execution_count": null,
   "id": "90ed9a58-380e-410c-8d3f-b57fb6fd2d8e",
   "metadata": {},
   "outputs": [],
   "source": [
    "import datetime as dt\n",
    "import pandas as pd"
   ]
  },
  {
   "cell_type": "code",
   "execution_count": null,
   "id": "28821ac0-e7e8-4af8-9747-9f26cb662295",
   "metadata": {},
   "outputs": [],
   "source": [
    "from google.cloud import aiplatform\n",
    "from google.cloud.aiplatform import gapic as aip"
   ]
  },
  {
   "cell_type": "code",
   "execution_count": null,
   "id": "4d90278f-1546-40a7-bb41-3505bf12b831",
   "metadata": {},
   "outputs": [],
   "source": []
  },
  {
   "cell_type": "code",
   "execution_count": null,
   "id": "92ba16c5-70fb-49f2-a0dc-3801be13adde",
   "metadata": {},
   "outputs": [],
   "source": [
    "import os\n",
    "from dotenv import load_dotenv, find_dotenv # package used in jupyter notebook to read the variables in file .env\n",
    "\n",
    "\"\"\" get env variable from .env \"\"\"\n",
    "load_dotenv(find_dotenv())\n",
    "\n",
    "\"\"\" Read env variables and save it as python variable \"\"\"\n",
    "PROJECT_ID_DS = os.environ.get(\"PROJECT_GCP\", \"\")"
   ]
  },
  {
   "cell_type": "code",
   "execution_count": null,
   "id": "3bf4b8c0-0111-48d2-adf2-aa11f02fc7f8",
   "metadata": {},
   "outputs": [],
   "source": []
  },
  {
   "attachments": {},
   "cell_type": "markdown",
   "id": "d64f6936-d0f3-47ac-9936-564a722d1149",
   "metadata": {},
   "source": [
    "### Paso 0. Parámetros generales"
   ]
  },
  {
   "cell_type": "code",
   "execution_count": null,
   "id": "0ad7da85-9f5b-418f-9ed4-ff0ff6a9a992",
   "metadata": {},
   "outputs": [],
   "source": [
    "### PARÁMETROS GENERALES GCP ###\n",
    "\n",
    "# definir el proyecto. Diría que se tiene que hacer todo en un único proyecto porque sino vertex como que no funciona (creo)\n",
    "PROJECT_ID = PROJECT_ID_DS\n",
    "\n",
    "# definir un bucket (ya creado) para guardar los archivos que genera el usar VERTEX AI.\n",
    "# No necesariamente puede ser un bucket, puede ser una carpeta dentro de un bucket. Lo cual es mejor si se quiere tener un\n",
    "# bucket para un caso de uso y dentro de ese bucket un folder dedicado a todo los códigos de VERTEX AI\n",
    "BUCKET_ID = '{bucket-name}/vertex-ai'\n",
    "\n",
    "# definir una región, VERTEX SE INICIALIZA EN UNA REGIÓN y se utiliza algún recursos de vertex ej: datesets deben de estar \n",
    "# definidos en la misma región que se inicializó el código. Importante mayo 2023: dataset no están implementados para todas las regiones\n",
    "REGION = '{region}'"
   ]
  },
  {
   "cell_type": "code",
   "execution_count": null,
   "id": "b838c8f4-ba9a-45a4-9b00-6957ef03d1eb",
   "metadata": {},
   "outputs": [],
   "source": [
    "### PARÁMETROS GENERALES EJECUCIÓN ###\n",
    "\n",
    "# obtener la hora actual de cuándo se comenzó la ejecución - hash\n",
    "now = dt.datetime.now()\n",
    "date_time = now.strftime(\"%Y_%m_%d_%H_%M_%S\")\n",
    "\n",
    "\n",
    "# identificacion del tipo de caso de uso (y también tipo de modelo) que se va a usar poara registrar el entrenamiento\n",
    "identity_kind_use_case = 'job_vertex_registry_experiments'  \n",
    "\n",
    "\n",
    "# definir path donde se va a guardar el pkl con el modelo y que además quede registrado en modelos de vertex\n",
    "# definir path CUSTOM donde estará guardado el artefacto del modelo y el cual quedará registrado en el menu \"modelos\" de vertex\n",
    "# obligatoriamente el path debe ser \".../model/model.pkl\" por lo que la carpeta model y el artefacto model.pkl se omiten en este path\n",
    "BUCKET_ID_MODEL = '{bucket-id-model}'\n",
    "path_artifact_model_vertex = f'gs://{BUCKET_ID_MODEL}/poc-jobs-vertex/modeltypeA/run_{date_time}/'"
   ]
  },
  {
   "cell_type": "code",
   "execution_count": null,
   "id": "f43608c6-b7a2-4f15-b834-f90f85356d3c",
   "metadata": {},
   "outputs": [],
   "source": [
    "print('Parámetros Generales GCP')\n",
    "print('PROJECT_ID: ', PROJECT_ID)\n",
    "print('BUCKET_ID: ', BUCKET_ID)\n",
    "print('REGION: ', REGION)\n",
    "\n",
    "print('\\n----')\n",
    "print('Parámetros Específicos job entrenamiento')\n",
    "print('date_time: ', date_time)\n",
    "print('identity_kind_use_case: ', identity_kind_use_case)\n",
    "print('path_artifact_model_vertex: ', path_artifact_model_vertex)"
   ]
  },
  {
   "cell_type": "code",
   "execution_count": null,
   "id": "a3a5c49d-6002-49e9-996b-32abfb0f11f5",
   "metadata": {},
   "outputs": [],
   "source": []
  },
  {
   "attachments": {},
   "cell_type": "markdown",
   "id": "ccb9540f-8a52-4881-9b35-82c580affff6",
   "metadata": {},
   "source": [
    "### Paso 1. Crear script de entrenamiento"
   ]
  },
  {
   "cell_type": "code",
   "execution_count": null,
   "id": "f38f63ea-978d-484d-8a7a-31732ac82d43",
   "metadata": {},
   "outputs": [],
   "source": [
    "# ESCRIBIR EL SCRIPT DE ENTRENAMIENTO."
   ]
  },
  {
   "cell_type": "code",
   "execution_count": null,
   "id": "57bf0496-6cb8-4233-b372-48620066487f",
   "metadata": {},
   "outputs": [],
   "source": [
    "# Correr script de entrenamiento de forma local - solo verificar\n",
    "# %run train_model.py --id_date_time 2023_10_28_18_47_33"
   ]
  },
  {
   "cell_type": "code",
   "execution_count": null,
   "id": "d8edb594-9a41-4f97-ad22-052f1955fcb0",
   "metadata": {},
   "outputs": [],
   "source": []
  },
  {
   "attachments": {},
   "cell_type": "markdown",
   "id": "e08ad561-ba02-42c3-beed-386938c85221",
   "metadata": {},
   "source": [
    "### Paso 2: Inicializar Vertex AI"
   ]
  },
  {
   "cell_type": "code",
   "execution_count": null,
   "id": "6d022d87-5159-420e-bfb3-da14f417cd01",
   "metadata": {},
   "outputs": [],
   "source": [
    "aiplatform.init(project = PROJECT_ID, location = REGION, staging_bucket = BUCKET_ID)"
   ]
  },
  {
   "cell_type": "code",
   "execution_count": null,
   "id": "a44aa64b-0fa5-4f1e-90fe-793432e2d5bf",
   "metadata": {},
   "outputs": [],
   "source": []
  },
  {
   "attachments": {},
   "cell_type": "markdown",
   "id": "9f91ab47-0ab9-4aec-85b3-5745690a5ca1",
   "metadata": {},
   "source": [
    "### Paso 3. Definir parámetros necesarios para CREAR la instancia del job de entrenamiento (aún no se envia)"
   ]
  },
  {
   "cell_type": "code",
   "execution_count": null,
   "id": "0da08a45-5221-4882-8d9a-d4543851336f",
   "metadata": {},
   "outputs": [],
   "source": [
    "### definir el nombre del job que se enviará. Algo que indentifique de qué es el job + hora envio ###\n",
    "job_name = identity_kind_use_case + '__job_train__' + date_time\n",
    "job_name"
   ]
  },
  {
   "cell_type": "code",
   "execution_count": null,
   "id": "f81e75bd-fb8b-408d-a619-b4e0f58ac0d0",
   "metadata": {},
   "outputs": [],
   "source": [
    "### definir el contrainer para el ENTRENAMIENTO y para LA PREDICCIÓN - facilitados por google ####\n",
    "#container_train = 'us-docker.pkg.dev/vertex-ai/training/scikit-learn-cpu.0-23:latest' \n",
    "\n",
    "container_train = 'us-docker.pkg.dev/vertex-ai/training/tf-cpu.2-12.py310:latest'\n",
    "container_deploy = 'us-docker.pkg.dev/vertex-ai/prediction/sklearn-cpu.0-23:latest' # solo utilizado para servicios de deploy y predicción batch de vertex"
   ]
  },
  {
   "cell_type": "code",
   "execution_count": null,
   "id": "b90bc95b-92fe-4f38-8207-5e0ed6f9d239",
   "metadata": {},
   "outputs": [],
   "source": []
  },
  {
   "cell_type": "code",
   "execution_count": null,
   "id": "d28e8d99-8603-479e-88fa-e35af0ee30db",
   "metadata": {},
   "outputs": [],
   "source": [
    "### definir el path al script de entrenamiento ###\n",
    "path_train_script = 'train_model.py'"
   ]
  },
  {
   "cell_type": "code",
   "execution_count": null,
   "id": "2b05025e-b6cd-49b1-b5b8-dd36f5ff04be",
   "metadata": {},
   "outputs": [],
   "source": [
    "### definir la descripción del modelo ###\n",
    "description = 'entrenar modelo leyendo pkl de GCS'"
   ]
  },
  {
   "cell_type": "code",
   "execution_count": null,
   "id": "3551ec93-e15d-42c3-94fa-8f30cf2f47f0",
   "metadata": {},
   "outputs": [],
   "source": [
    "### definir los requirements ###\n",
    "# el db-types es necesario para poder consultar tablas de bigquery\n",
    "list_requirements = [\"google-cloud-bigquery==3.11.4\", \"db-dtypes\", \"gcsfs==2023.9.2\", \"pandas==2.0.3\", \"numpy==1.23.5\", \\\n",
    "                     \"scikit-learn==1.3.1\", \"google-cloud-aiplatform\"]"
   ]
  },
  {
   "cell_type": "code",
   "execution_count": null,
   "id": "e70646dc-28af-4fb0-b234-cf61ef4cf618",
   "metadata": {},
   "outputs": [],
   "source": []
  },
  {
   "attachments": {},
   "cell_type": "markdown",
   "id": "2c140376-6c0d-462c-a315-a8fdd4b1871a",
   "metadata": {},
   "source": [
    "### Paso 4. Definir parámetros necesarios para ENVIAR job de entrenamiento - usando CPU"
   ]
  },
  {
   "cell_type": "code",
   "execution_count": null,
   "id": "5e445f2c-7247-4274-8ec8-5d601dddf0b7",
   "metadata": {},
   "outputs": [],
   "source": [
    "### definir el nombre con el que queda registrado (en VERTEX AI) el modelo resultado del entrenamiento ###\n",
    "# De qué es el modelo +  hora de envio\n",
    "model_name = identity_kind_use_case  + '__model__' + date_time \n",
    "model_name"
   ]
  },
  {
   "cell_type": "code",
   "execution_count": null,
   "id": "cf300ff9-d2c0-441b-8bd4-6af36cd75793",
   "metadata": {},
   "outputs": [],
   "source": [
    "### definir el tipo de máquina para hacer el entrenamiento ###\n",
    "\n",
    "machine_type_train = \"n1-standard\"\n",
    "vcpu_train = \"4\"\n",
    "train_compute = machine_type_train + \"-\" + vcpu_train\n",
    "\n",
    "print(\"Train machine type: \", train_compute)"
   ]
  },
  {
   "cell_type": "code",
   "execution_count": null,
   "id": "e7944053-0e9b-46c9-b26f-d2613b3ea147",
   "metadata": {},
   "outputs": [],
   "source": []
  },
  {
   "attachments": {},
   "cell_type": "markdown",
   "id": "13db567a-76d7-4d08-8ed7-5a79b05ed440",
   "metadata": {},
   "source": [
    "### Paso 5. Crear instancia del job de entrenamiento a VERTEX AI (CustomTrainingJob)"
   ]
  },
  {
   "cell_type": "code",
   "execution_count": null,
   "id": "560c16ba-3283-442d-a5b3-c794ba7ac80f",
   "metadata": {},
   "outputs": [],
   "source": [
    "# PRIMERO SE LLAMA UNA INSTANCIA DE LA CLASE\n",
    "job = aiplatform.CustomTrainingJob(\n",
    "    display_name = job_name,\n",
    "    script_path = path_train_script,\n",
    "    model_description = description,\n",
    "    container_uri = container_train,\n",
    "    requirements = list_requirements,\n",
    "    model_serving_container_image_uri = container_deploy,\n",
    ")"
   ]
  },
  {
   "cell_type": "code",
   "execution_count": null,
   "id": "4241d459-6a96-44eb-a4a6-7b64ea385a69",
   "metadata": {},
   "outputs": [],
   "source": [
    "job"
   ]
  },
  {
   "cell_type": "code",
   "execution_count": null,
   "id": "bf5f120d-ede4-49f6-bcd6-104da3f56470",
   "metadata": {},
   "outputs": [],
   "source": []
  },
  {
   "attachments": {},
   "cell_type": "markdown",
   "id": "6d824845-1ab9-4b05-a6cc-51a832ca1940",
   "metadata": {},
   "source": [
    "### Paso 6. Enviar el job de entrenamiento a VERTEX AI (CustomTrainingJob)\n",
    "**Add a personalized service account with the permission to registry in \"vertex experiments\"**"
   ]
  },
  {
   "cell_type": "code",
   "execution_count": null,
   "id": "204773c0-9572-48ad-b1b4-e49ad3ef21c7",
   "metadata": {},
   "outputs": [],
   "source": [
    "# # # original\n",
    "\n",
    "# model = job.run(\n",
    "#     model_display_name = model_name,\n",
    "#     replica_count = 1,\n",
    "#     machine_type = train_compute,\n",
    "#     base_output_dir = path_artifact_model_vertex, # path custom .../model/model.pkl donde se guarda el pkl del modelo. se omite del path model/model.pkl\n",
    "#     args = [\"--id_date_time=\" + date_time], # args que se le pasan al script de entrenamiento de este ejemplo\n",
    "#     sync = True\n",
    "# )"
   ]
  },
  {
   "cell_type": "code",
   "execution_count": null,
   "id": "490844a1-7ab1-4e7e-9a6f-6db0f2a398f3",
   "metadata": {},
   "outputs": [],
   "source": [
    "## ADD SA (service account)\n",
    "\n",
    "model = job.run(\n",
    "    model_display_name = model_name,\n",
    "    replica_count = 1,\n",
    "    machine_type = train_compute,\n",
    "    base_output_dir = path_artifact_model_vertex, # path custom .../model/model.pkl donde se guarda el pkl del modelo. se omite del path model/model.pkl\n",
    "    args = [\"--id_date_time=\" + date_time], # args que se le pasan al script de entrenamiento de este ejemplo\n",
    "    sync = True,\n",
    "    service_account = \"SA\"\n",
    ")"
   ]
  },
  {
   "cell_type": "code",
   "execution_count": null,
   "id": "14d9a471-5222-4674-b23f-6313158a5d70",
   "metadata": {},
   "outputs": [],
   "source": []
  },
  {
   "cell_type": "code",
   "execution_count": null,
   "id": "224a6f82-c832-4e65-9bc5-fb34dad61d87",
   "metadata": {},
   "outputs": [],
   "source": [
    "model"
   ]
  },
  {
   "cell_type": "code",
   "execution_count": null,
   "id": "1978b54c-7db2-4d77-954a-9164392686c6",
   "metadata": {},
   "outputs": [],
   "source": []
  },
  {
   "cell_type": "code",
   "execution_count": null,
   "id": "7f8485e4-6328-458c-a8f1-042504a10e13",
   "metadata": {},
   "outputs": [],
   "source": []
  }
 ],
 "metadata": {
  "environment": {
   "kernel": "python3",
   "name": "common-cpu.m108",
   "type": "gcloud",
   "uri": "gcr.io/deeplearning-platform-release/base-cpu:m108"
  },
  "kernelspec": {
   "display_name": "Python 3 (ipykernel)",
   "language": "python",
   "name": "python3"
  },
  "language_info": {
   "codemirror_mode": {
    "name": "ipython",
    "version": 3
   },
   "file_extension": ".py",
   "mimetype": "text/x-python",
   "name": "python",
   "nbconvert_exporter": "python",
   "pygments_lexer": "ipython3",
   "version": "3.10.14"
  }
 },
 "nbformat": 4,
 "nbformat_minor": 5
}
