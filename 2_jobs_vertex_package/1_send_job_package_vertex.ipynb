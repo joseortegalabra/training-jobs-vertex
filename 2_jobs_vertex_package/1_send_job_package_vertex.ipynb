{
 "cells": [
  {
   "attachments": {},
   "cell_type": "markdown",
   "id": "7c7fc6d8-2b5a-4b54-9d04-d6aad474045e",
   "metadata": {},
   "source": [
    "# Enviar job de Vertex\n",
    "Enviar job de vertex para el entrenamiento del modelo en cloud"
   ]
  },
  {
   "attachments": {},
   "cell_type": "markdown",
   "id": "bbf70ca8-2d37-453f-acf7-2954a889e5e9",
   "metadata": {},
   "source": [
    "## Consideraciones generales importantes Vertex AI - Noviembre 2023\n",
    "- El job de entrenamiento que se envia se guarda en el menu principal **\"Model Development\"**, específicamente en el submenú **\"Entrenamiento\"**\n",
    "\n",
    "- Por otro lado, el modelo que queda entrenado queda registrado en el menu principal **\"Deploy and Use\"**, específicmente en el submenú **\"Registro de Modelos\"** (solo si se logro ejecutar bien el job y entrenó el modelo. Este funciona como un repositorio de modedlos). Luego de tener registrado el modelo, si se desea, se puede deployar en un endpoint (para realizar predicciones en línea con un delay muy pequeño)  y el endpoint queda registrado en el menu **\"EndPoint\"**\n",
    "\n",
    "## Consideraciones para el entrenamiento realizado en este notebook\n",
    "- Se utiliza la clase **CustomPythonPackageTrainingJob**. Documentación: https://cloud.google.com/python/docs/reference/aiplatform/latest/google.cloud.aiplatform.CustomPythonPackageTrainingJob\n",
    "\n",
    "- **En este ejemplo, se ENVIA UN PACKAGE CON CÓDIGOS PARA ENTRENAR UN MODELO EN VERTEX. ESTE PACKAGE ESTÁ CONFORMADO POR MÚLTIPLES SCRIPTS. El resto del código funciona de forma igual a los ejemplos v1 y v2, la única diferencia que este ejemplo v3 envia un package en lugar de un script**\n",
    "\n",
    "- El resto de código (y documentación) igual a los ejemplos v1 y v2. Solo cambia el código para crear el job de entrenamiento (donde se pasa la url de un package .tar.gz de códigos de entrenamiento y el path al script orquestador), y el código para enviar el job es el mismo. Por lo tanto, la documentación repetida se omite y solo se agrega los puntos nuevos para poder utilizar **CustomPythonPackageTrainingJob**\n",
    "\n",
    "\n",
    "----------------------------------\n",
    "- **DOCUMENTACIÓN PYTHON DE LA LIBRERÍA COMPLETA AIPLATFORM**: https://cloud.google.com/python/docs/reference/aiplatform/latest/google.cloud.aiplatform\n",
    "\n",
    "- **Repo Github oficial de Vertex AI - ejemplos interesantes**:\n",
    "- https://github.com/GoogleCloudPlatform/vertex-ai-samples/blob/main/notebooks/official/training/get_started_with_vertex_distributed_training.ipynb\n",
    "- https://github.com/GoogleCloudPlatform/vertex-ai-samples/blob/main/notebooks/official/training/hyperparameter_tuning_xgboost.ipynb"
   ]
  },
  {
   "cell_type": "code",
   "execution_count": null,
   "id": "90ed9a58-380e-410c-8d3f-b57fb6fd2d8e",
   "metadata": {},
   "outputs": [],
   "source": [
    "import datetime as dt\n",
    "import pandas as pd\n",
    "\n",
    "from google.cloud import aiplatform\n",
    "from google.cloud.aiplatform import gapic as aip"
   ]
  },
  {
   "cell_type": "code",
   "execution_count": null,
   "id": "28821ac0-e7e8-4af8-9747-9f26cb662295",
   "metadata": {},
   "outputs": [],
   "source": []
  },
  {
   "cell_type": "code",
   "execution_count": null,
   "id": "e92f2cf9-a369-4b64-a4df-699016f3b21a",
   "metadata": {},
   "outputs": [],
   "source": [
    "import os\n",
    "from dotenv import load_dotenv, find_dotenv # package used in jupyter notebook to read the variables in file .env\n",
    "\n",
    "\"\"\" get env variable from .env \"\"\"\n",
    "load_dotenv(find_dotenv())\n",
    "\n",
    "\"\"\" Read env variables and save it as python variable \"\"\"\n",
    "PROJECT_ID_DS = os.environ.get(\"PROJECT_GCP\", \"\")"
   ]
  },
  {
   "cell_type": "code",
   "execution_count": null,
   "id": "43a7ec3e-70fa-4c80-a97e-9e356591ae25",
   "metadata": {},
   "outputs": [],
   "source": []
  },
  {
   "cell_type": "code",
   "execution_count": null,
   "id": "3bf4b8c0-0111-48d2-adf2-aa11f02fc7f8",
   "metadata": {},
   "outputs": [],
   "source": []
  },
  {
   "attachments": {},
   "cell_type": "markdown",
   "id": "d64f6936-d0f3-47ac-9936-564a722d1149",
   "metadata": {},
   "source": [
    "### Paso 0. Parámetros generales"
   ]
  },
  {
   "cell_type": "code",
   "execution_count": null,
   "id": "0ad7da85-9f5b-418f-9ed4-ff0ff6a9a992",
   "metadata": {},
   "outputs": [],
   "source": [
    "### PARÁMETROS GENERALES GCP ###\n",
    "PROJECT_ID = PROJECT_ID_DS\n",
    "REGION = '{region}'\n",
    "BUCKET_ID = '{bucket-id}/vertex-ai' # bucket (ya creado) donde se guarda el package .tar.gz con código de entrenamiento"
   ]
  },
  {
   "cell_type": "code",
   "execution_count": null,
   "id": "b838c8f4-ba9a-45a4-9b00-6957ef03d1eb",
   "metadata": {},
   "outputs": [],
   "source": [
    "### PARÁMETROS GENERALES EJECUCIÓN ###\n",
    "\n",
    "# obtener la hora actual de cuándo se comenzó la ejecución - hash\n",
    "now = dt.datetime.now()\n",
    "date_time = now.strftime(\"%Y_%m_%d_%H_%M_%S\")\n",
    "\n",
    "# identificacion del tipo de caso de uso (y también tipo de modelo) que se va a usar poara registrar el entrenamiento\n",
    "identity_kind_use_case = 'basic_job_vertex_v3'\n",
    "\n",
    "# definir path donde se va a guardar el artefacto .pkl del modelo. El path completo se define en el código de entrenamiento \".../model/models.pkl\"\n",
    "BUCKET_ARTIFACT_MODEL = '{bucket-artifact-model}'\n",
    "path_artifact_model_vertex = f'gs://{BUCKET_ARTIFACT_MODEL}/poc-jobs-vertex/modeltypeB/run_{date_time}/'"
   ]
  },
  {
   "cell_type": "code",
   "execution_count": null,
   "id": "f43608c6-b7a2-4f15-b834-f90f85356d3c",
   "metadata": {},
   "outputs": [],
   "source": [
    "print('-->Parámetros Generales GCP')\n",
    "print('PROJECT_ID: ', PROJECT_ID)\n",
    "print('BUCKET_ID: ', BUCKET_ID)\n",
    "print('REGION: ', REGION)\n",
    "\n",
    "print('\\n------------------------------------------')\n",
    "print('-->Parámetros Específicos job entrenamiento')\n",
    "print('date_time: ', date_time)\n",
    "print('identity_kind_use_case: ', identity_kind_use_case)\n",
    "print('path_artifact_model_vertex: ', path_artifact_model_vertex)"
   ]
  },
  {
   "cell_type": "code",
   "execution_count": null,
   "id": "a3a5c49d-6002-49e9-996b-32abfb0f11f5",
   "metadata": {},
   "outputs": [],
   "source": []
  },
  {
   "attachments": {},
   "cell_type": "markdown",
   "id": "ccb9540f-8a52-4881-9b35-82c580affff6",
   "metadata": {},
   "source": [
    "### Paso 0. Crear scripts de entrenamiento.\n",
    "Los códigos de entrenamiento (repartidos en múltiples scripts) deben de estar en una carpeta trainer. Esta carpeta debe contener un script **__init__.py** (en blanco) y un script **task.py** el cual es el orquestador y el que se ejecuta al correr el package de entrenamiento; este script task.py llama al resto de scripts auxiliares.\n",
    "\n",
    "-----------------\n",
    "**La estructura de carpeta y scripts para generar el package de entrenamiento debe seguir la siguiente estructura recomendada**\n",
    "\n",
    "- trainer\r\n",
    "  - \\_\\_init\\_\\_.p\r\n",
    "  - taskpy.\n",
    "  - script_aux1.py\n",
    "  - script_aux2.py\n",
    "  - script_auxN.pypypy"
   ]
  },
  {
   "cell_type": "code",
   "execution_count": null,
   "id": "f38f63ea-978d-484d-8a7a-31732ac82d43",
   "metadata": {},
   "outputs": [],
   "source": [
    "# ESCRIBIR EL SCRIPT DE ENTRENAMIENTO."
   ]
  },
  {
   "cell_type": "code",
   "execution_count": null,
   "id": "57bf0496-6cb8-4233-b372-48620066487f",
   "metadata": {},
   "outputs": [],
   "source": [
    "# # Correr script de entrenamiento de forma local - solo verificar que no hay errores\n",
    "# %run src/trainer/task.py --id_date_time 2023_10_29_02_03_38"
   ]
  },
  {
   "cell_type": "code",
   "execution_count": null,
   "id": "d29413e2-5382-415f-adb0-b643d6756c78",
   "metadata": {},
   "outputs": [],
   "source": []
  },
  {
   "cell_type": "code",
   "execution_count": null,
   "id": "32902eb0-14b2-44a0-978a-fa3d974e71a3",
   "metadata": {},
   "outputs": [],
   "source": []
  },
  {
   "cell_type": "code",
   "execution_count": null,
   "id": "ee9bde38-9d77-4a21-8f71-a1cda6b58031",
   "metadata": {},
   "outputs": [],
   "source": []
  },
  {
   "cell_type": "code",
   "execution_count": null,
   "id": "ba05ee01-722d-4457-b7fb-a0c236107144",
   "metadata": {},
   "outputs": [],
   "source": []
  },
  {
   "cell_type": "code",
   "execution_count": null,
   "id": "991e7d3a-e2ea-4a6a-b24d-65f85b647089",
   "metadata": {},
   "outputs": [],
   "source": []
  },
  {
   "cell_type": "markdown",
   "id": "0b19b3a3-43e9-46d3-a426-4af6599601b4",
   "metadata": {},
   "source": [
    "### Paso 1. Crear package con los códigos de entrenamiento\n",
    "Luego de tener creados los scripts de entrenamiento estructurados en el formato recomendado y probados que corren en el local (probados por ejemplo con una submuestra de datos), crear el package de entrenamiento.\n",
    "\n",
    "**IMPORTANTE: OBLIGATORIAMENTE EL FORMATO DE CARPETAS QUE ACEPTA VERTEX ES \"src/trainer/task.py\". Se necesitan 2 carpetas y luego llegar al script task.py**\n",
    "\n",
    "------------------\n",
    "**Ejemplo de muestra (subir package con comandos de linux)** (noviembre 2023): https://github.com/GoogleCloudPlatform/vertex-ai-samples/blob/main/notebooks/official/training/get_started_with_vertex_distributed_training.ipynb\n",
    "\n",
    "Fuente: https://packaging.python.org/en/latest/tutorials/packaging-projects/\n",
    "\n",
    "------------------\n",
    "**Para crear el package.tar.gz con los scripts de entrenamiento se necesitan la siguiente estructura de carpetas:**\n",
    "\n",
    "- src\n",
    "  - trainer\n",
    "  - trainer_lr.egg-info\n",
    "- packages-pip\n",
    "- setup.py\n",
    "\n",
    "Donde:\n",
    "- **setup.py:** Es un script que se escribe manualmente y es necesario para crear el package.tar.gz de entrenamiento. Aquí se indican la lista de requirements de los packages que tienen que instalarse para correr el código\n",
    "- src: Carpeta source/src. En su interior se ubica la carpeta trainer la cual contiene todos los códigos de entrenamiento\n",
    "- packages-pip: carpeta que se crea automáticamente, en esta se guardan los packages .tar.gz"
   ]
  },
  {
   "cell_type": "code",
   "execution_count": null,
   "id": "ed92bd72-887c-4b28-8d67-0f3614cf76a6",
   "metadata": {},
   "outputs": [],
   "source": [
    "##### DEFINIR PARÁMETROS UTILIZADOS LA CREACIÓN DEL ARCHIVO SETUP.PY Y DE LA SUBIDA DEL PACKAGE .TAR.GS A GCS PARA EL ENTRENAMIENTO DEL MODELO\n",
    "\n",
    "#------------\n",
    "# requirements\n",
    "list_requirements_setup = [\"google-cloud-bigquery==3.11.4\", \"db-dtypes\", \"gcsfs==2023.9.2\", \"pandas==2.0.3\", \"numpy==1.23.5\", \"scikit-learn==1.3.1\"]\n",
    "\n",
    "# version package - definir con doble string\n",
    "name_package_setup = \"trainer-model\"\n",
    "version_setup = \"1.0.0\"\n",
    "\n",
    "#string solo para poder que funciona el f string. Para que funcione el script setup.py: package_dir={'': 'src'},\n",
    "package_dir_setup = eval('{\"\": \"src\"}')\n",
    "\n",
    "#------------\n",
    "# definir folder local donde se guardan los archivo .tar.gz de los packages generados\n",
    "path_folder_package = 'packages-pip'\n",
    "\n",
    "\n",
    "#------------\n",
    "# path local y gcs del package con los codigos de entrenamiento .tar.gz\n",
    "path_train_package_local = f'{path_folder_package}/{name_package_setup}-{version_setup}.tar.gz'\n",
    "path_train_package_gcs = f'gs://{BUCKET_ID}/package-{name_package_setup}-{date_time}.tar.gz'"
   ]
  },
  {
   "cell_type": "code",
   "execution_count": null,
   "id": "b77dc02a-f650-459d-91e3-696d5130f69c",
   "metadata": {},
   "outputs": [],
   "source": [
    "#### ESCRIBIR SETUP.PY\n",
    "# Se genera un docstring con el código que debería ir en el script setup.py y luego se guarda el string en dicho formato\n",
    "\n",
    "string_setup_py = f\"\"\"import setuptools\n",
    "setuptools.setup(\n",
    "    name='{name_package_setup}',\n",
    "    version='{version_setup}',\n",
    "    author='Jose',\n",
    "    description='job vertex v3 - enviar package custom de entrenamiento',\n",
    "    install_requires = {list_requirements_setup},\n",
    "    package_dir={package_dir_setup},\n",
    "    packages=setuptools.find_packages(where=\"src\"),\n",
    "    include_package_data=True\n",
    ")\n",
    "\"\"\"\n",
    "\n",
    "with open('setup.py', 'w') as file:\n",
    "    file.write(string_setup_py)"
   ]
  },
  {
   "cell_type": "code",
   "execution_count": null,
   "id": "44f3100f-deff-472d-bdca-3fec83f68446",
   "metadata": {},
   "outputs": [],
   "source": [
    "##### SUBIR PACKAGE .TAR.GZ A GCS PARA ENTRENAMIENTO DEL MODELO\n",
    "\n",
    "# ejecutar sctript setup.py y generar package .tar.gz guardado localmente (path_folder_package: folder donde se guarda lolcamente)\n",
    "! python setup.py sdist --formats=gztar -d $path_folder_package\n",
    "\n",
    "# teniendo el package .tar.gz guardado localmente, subirlo a GCS para realizar el entrenamiento del modelo\n",
    "! gsutil cp $path_train_package_local $path_train_package_gcs"
   ]
  },
  {
   "cell_type": "code",
   "execution_count": null,
   "id": "af434e43-4744-4666-bbbd-3da3e5786869",
   "metadata": {},
   "outputs": [],
   "source": []
  },
  {
   "cell_type": "code",
   "execution_count": null,
   "id": "e197e696-3276-4591-b87a-05480cc7bc67",
   "metadata": {},
   "outputs": [],
   "source": []
  },
  {
   "cell_type": "code",
   "execution_count": null,
   "id": "4bd277f3-847c-4b11-b687-b67ea438ccd4",
   "metadata": {},
   "outputs": [],
   "source": []
  },
  {
   "attachments": {},
   "cell_type": "markdown",
   "id": "e08ad561-ba02-42c3-beed-386938c85221",
   "metadata": {},
   "source": [
    "### Paso 2: Inicializar Vertex AI"
   ]
  },
  {
   "cell_type": "code",
   "execution_count": null,
   "id": "6d022d87-5159-420e-bfb3-da14f417cd01",
   "metadata": {},
   "outputs": [],
   "source": [
    "aiplatform.init(project = PROJECT_ID, location = REGION, staging_bucket = BUCKET_ID)"
   ]
  },
  {
   "cell_type": "code",
   "execution_count": null,
   "id": "a44aa64b-0fa5-4f1e-90fe-793432e2d5bf",
   "metadata": {},
   "outputs": [],
   "source": []
  },
  {
   "attachments": {},
   "cell_type": "markdown",
   "id": "9f91ab47-0ab9-4aec-85b3-5745690a5ca1",
   "metadata": {},
   "source": [
    "### Paso 3. Definir parámetros necesarios para CREAR la instancia del job de entrenamiento (aún no se envia)\n",
    "\n",
    "---------------------------\n",
    "- Para entrenar un modelo en cloud se deben realizar 2 pasos: el primero crear la instancia de la clase del entrenamiento (CustomPythonPackageTrainingJob) y en segundo lugar enviar el job de entrenamiento (método de la instancia)\n",
    "\n",
    "---------------------------\n",
    "- INFO, LOS ÚNICOS PARÁMETROS QUE SON OBLIGATORIOS SON:\n",
    "    - **display_name**: nombre del job\n",
    "    - **python_package_gcs_uri**: package de python donde están los códigos de entrenamiento + requirements\n",
    "    - **python_module_name**: script orquestador de python dentro de package de entrenamiento\n",
    "    - **container_uri**: container de entrenamiento. preferencia utilizar container prebuild de GCP e instalar los packages faltantes de requirements\n",
    "\n",
    "---------------------------\n",
    "- INFO containers base de google:\n",
    "    - **Container para el entrenamiento**: https://cloud.google.com/vertex-ai/docs/training/pre-built-containers\n",
    "    - **Container para la predicción**: https://cloud.google.com/vertex-ai/docs/predictions/pre-built-containers"
   ]
  },
  {
   "cell_type": "code",
   "execution_count": null,
   "id": "0da08a45-5221-4882-8d9a-d4543851336f",
   "metadata": {},
   "outputs": [],
   "source": [
    "### definir el nombre del job que se enviará. Algo que indentifique de qué es el job + hora envio ###\n",
    "job_name = identity_kind_use_case + '__job_train__' + date_time\n",
    "job_name"
   ]
  },
  {
   "cell_type": "code",
   "execution_count": null,
   "id": "f81e75bd-fb8b-408d-a619-b4e0f58ac0d0",
   "metadata": {},
   "outputs": [],
   "source": [
    "### definir el contrainer para el ENTRENAMIENTO y para LA PREDICCIÓN - facilitados por google ####\n",
    "container_train = 'us-docker.pkg.dev/vertex-ai/training/tf-cpu.2-12.py310:latest'\n",
    "container_deploy = 'us-docker.pkg.dev/vertex-ai/prediction/tf2-cpu.2-12:latest'"
   ]
  },
  {
   "cell_type": "code",
   "execution_count": null,
   "id": "d28e8d99-8603-479e-88fa-e35af0ee30db",
   "metadata": {},
   "outputs": [],
   "source": [
    "### definir el path a package de entrenamiento en GCS y al script orquestador ###\n",
    "\n",
    "print('path train package gcs: ', path_train_package_gcs)\n",
    "\n",
    "python_script_orchestrator = 'trainer.task' # no se agrega el .py\n",
    "print('python_script_orchestrator: ', python_script_orchestrator)"
   ]
  },
  {
   "cell_type": "code",
   "execution_count": null,
   "id": "2b05025e-b6cd-49b1-b5b8-dd36f5ff04be",
   "metadata": {},
   "outputs": [],
   "source": [
    "### definir la descripción del modelo ###\n",
    "description = 'entrenar modelo utilizando \"CustomPythonPackageTrainingJob\"'"
   ]
  },
  {
   "cell_type": "code",
   "execution_count": null,
   "id": "e70646dc-28af-4fb0-b234-cf61ef4cf618",
   "metadata": {},
   "outputs": [],
   "source": []
  },
  {
   "attachments": {},
   "cell_type": "markdown",
   "id": "2c140376-6c0d-462c-a315-a8fdd4b1871a",
   "metadata": {},
   "source": [
    "### Paso 4. Definir parámetros necesarios para ENVIAR job de entrenamiento - usando CPU\n",
    "- Igual que el ejemplo v2. Pasar args al script orquestador del entrenamiento y guardar artefacto pkl del modelo en un path custom de GCS y registrarlo en modelos Vertex"
   ]
  },
  {
   "cell_type": "code",
   "execution_count": null,
   "id": "5e445f2c-7247-4274-8ec8-5d601dddf0b7",
   "metadata": {},
   "outputs": [],
   "source": [
    "### definir el nombre con el que queda registrado (en VERTEX AI) el modelo resultado del entrenamiento ###\n",
    "# De qué es el modelo +  hora de envio\n",
    "model_name = identity_kind_use_case  + '__model__' + date_time \n",
    "model_name"
   ]
  },
  {
   "cell_type": "code",
   "execution_count": null,
   "id": "cf300ff9-d2c0-441b-8bd4-6af36cd75793",
   "metadata": {},
   "outputs": [],
   "source": [
    "### definir el tipo de máquina para hacer el entrenamiento ###\n",
    "machine_type_train = \"n1-standard\"\n",
    "vcpu_train = \"4\"\n",
    "train_compute = machine_type_train + \"-\" + vcpu_train\n",
    "\n",
    "print(\"Train machine type: \", train_compute)"
   ]
  },
  {
   "cell_type": "code",
   "execution_count": null,
   "id": "e7944053-0e9b-46c9-b26f-d2613b3ea147",
   "metadata": {},
   "outputs": [],
   "source": []
  },
  {
   "attachments": {},
   "cell_type": "markdown",
   "id": "13db567a-76d7-4d08-8ed7-5a79b05ed440",
   "metadata": {},
   "source": [
    "### Paso 5. Crear instancia del job de entrenamiento a VERTEX AI (CustomTrainingJob)\n",
    "- Define your custom TrainingPipeline on Vertex AI.\n",
    "- Use the **CustomPythonPackageTrainingJob** to define the TrainingPipeline."
   ]
  },
  {
   "cell_type": "code",
   "execution_count": null,
   "id": "560c16ba-3283-442d-a5b3-c794ba7ac80f",
   "metadata": {},
   "outputs": [],
   "source": [
    "# PRIMERO SE LLAMA UNA INSTANCIA DE LA CLASE\n",
    "job = aiplatform.CustomPythonPackageTrainingJob(\n",
    "    display_name = job_name,\n",
    "    python_package_gcs_uri = path_train_package_gcs,\n",
    "    python_module_name = python_script_orchestrator,\n",
    "    container_uri = container_train,\n",
    "\n",
    "    model_description = description,\n",
    "    model_serving_container_image_uri = container_deploy,\n",
    ")"
   ]
  },
  {
   "cell_type": "code",
   "execution_count": null,
   "id": "4241d459-6a96-44eb-a4a6-7b64ea385a69",
   "metadata": {},
   "outputs": [],
   "source": [
    "job"
   ]
  },
  {
   "cell_type": "code",
   "execution_count": null,
   "id": "bf5f120d-ede4-49f6-bcd6-104da3f56470",
   "metadata": {},
   "outputs": [],
   "source": []
  },
  {
   "attachments": {},
   "cell_type": "markdown",
   "id": "6d824845-1ab9-4b05-a6cc-51a832ca1940",
   "metadata": {},
   "source": [
    "### Paso 6. Enviar el job de entrenamiento a VERTEX AI (CustomTrainingJob)\n",
    "- Solo basta con cambiar la clase CustomPythonPackageTrainingJob (en comparación con ejemplos v1 y v2) al definir el job y los parámetros de este. **Luego de tener creado el job de vertex, para enviar al entrenamiento (job.run) no es necesario ninguna modificación**"
   ]
  },
  {
   "cell_type": "code",
   "execution_count": null,
   "id": "204773c0-9572-48ad-b1b4-e49ad3ef21c7",
   "metadata": {
    "scrolled": true
   },
   "outputs": [],
   "source": [
    "model = job.run(\n",
    "    model_display_name = model_name,\n",
    "    replica_count = 1,\n",
    "    machine_type = train_compute,\n",
    "    base_output_dir = path_artifact_model_vertex, # path custom .../model/model.pkl donde se guarda el pkl del modelo. se omite del path model/model.pkl\n",
    "    args = [\"--id_date_time=\" + date_time], # args que se le pasan al script de entrenamiento de este ejemplo\n",
    "    sync = True\n",
    ")"
   ]
  },
  {
   "cell_type": "code",
   "execution_count": null,
   "id": "224a6f82-c832-4e65-9bc5-fb34dad61d87",
   "metadata": {},
   "outputs": [],
   "source": [
    "model"
   ]
  },
  {
   "cell_type": "code",
   "execution_count": null,
   "id": "1978b54c-7db2-4d77-954a-9164392686c6",
   "metadata": {},
   "outputs": [],
   "source": []
  },
  {
   "cell_type": "code",
   "execution_count": null,
   "id": "09891d91-1841-4f03-9856-64ce4907c90a",
   "metadata": {},
   "outputs": [],
   "source": []
  },
  {
   "cell_type": "code",
   "execution_count": null,
   "id": "7f8485e4-6328-458c-a8f1-042504a10e13",
   "metadata": {},
   "outputs": [],
   "source": []
  }
 ],
 "metadata": {
  "environment": {
   "kernel": "python3",
   "name": "common-cpu.m108",
   "type": "gcloud",
   "uri": "gcr.io/deeplearning-platform-release/base-cpu:m108"
  },
  "kernelspec": {
   "display_name": "Python 3 (ipykernel)",
   "language": "python",
   "name": "python3"
  },
  "language_info": {
   "codemirror_mode": {
    "name": "ipython",
    "version": 3
   },
   "file_extension": ".py",
   "mimetype": "text/x-python",
   "name": "python",
   "nbconvert_exporter": "python",
   "pygments_lexer": "ipython3",
   "version": "3.10.14"
  }
 },
 "nbformat": 4,
 "nbformat_minor": 5
}
