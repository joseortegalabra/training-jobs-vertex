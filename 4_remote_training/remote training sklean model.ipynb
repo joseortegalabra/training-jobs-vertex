{
 "cells": [
  {
   "cell_type": "code",
   "execution_count": null,
   "id": "26ce96f9-c1d2-49c4-a116-9a0dcae49fd2",
   "metadata": {},
   "outputs": [],
   "source": [
    "!python --version"
   ]
  },
  {
   "cell_type": "code",
   "execution_count": null,
   "id": "eaffcf32-cafb-4e2c-831d-b27e60f03d11",
   "metadata": {},
   "outputs": [],
   "source": [
    "!pip show google-cloud-aiplatform"
   ]
  },
  {
   "cell_type": "markdown",
   "id": "1c519027-f8c6-447f-90ba-209ad92f99da",
   "metadata": {},
   "source": [
    "# PROBAR CÓDIGOS REMOTE TRAINING\n",
    "Entrenar modelos de sklearn con el iris dataset. Entrenamiento remoto de modelos de sklearn\n",
    "\n",
    "- **Carpeta de github oficial de GCP con ejemplos de remote training**: https://github.com/GoogleCloudPlatform/vertex-ai-samples/tree/main/notebooks/official/vertex_ai_sdk\n",
    "\n",
    "- **Notebook de github de GCP replicado (entrenar modelo de sklearn)**: https://github.com/GoogleCloudPlatform/vertex-ai-samples/blob/main/notebooks/official/vertex_ai_sdk/remote_training_sklearn.ipynb"
   ]
  },
  {
   "cell_type": "code",
   "execution_count": null,
   "id": "378af438-4fc8-41d4-934b-383a3f547c0a",
   "metadata": {},
   "outputs": [],
   "source": [
    "import vertexai\n",
    "from sklearn.datasets import load_iris\n",
    "from sklearn.linear_model import LogisticRegression\n",
    "from sklearn.model_selection import train_test_split\n",
    "from sklearn.preprocessing import StandardScaler"
   ]
  },
  {
   "cell_type": "code",
   "execution_count": null,
   "id": "9cfe5a22-ef99-4068-a9a3-c1da506f35db",
   "metadata": {},
   "outputs": [],
   "source": []
  },
  {
   "cell_type": "code",
   "execution_count": null,
   "id": "0b7550a5-2549-4d92-8541-d0f8f0d2c6c5",
   "metadata": {},
   "outputs": [],
   "source": [
    "import os\n",
    "from dotenv import load_dotenv, find_dotenv # package used in jupyter notebook to read the variables in file .env\n",
    "\n",
    "\"\"\" get env variable from .env \"\"\"\n",
    "load_dotenv(find_dotenv())\n",
    "\n",
    "\"\"\" Read env variables and save it as python variable \"\"\"\n",
    "PROJECT_ID_DS = os.environ.get(\"PROJECT_GCP\", \"\")"
   ]
  },
  {
   "cell_type": "code",
   "execution_count": null,
   "id": "533875be-89b3-477c-a8b6-2453187931d1",
   "metadata": {},
   "outputs": [],
   "source": []
  },
  {
   "cell_type": "markdown",
   "id": "66efb23e-71f3-4a90-99e3-baeab7b5f2a6",
   "metadata": {},
   "source": [
    "### 0. Definir params"
   ]
  },
  {
   "cell_type": "code",
   "execution_count": null,
   "id": "cdadb9ad-38be-4607-b4b6-58421dd31e2d",
   "metadata": {},
   "outputs": [],
   "source": [
    "# PARAMS GENERALES GCP\n",
    "PROJECT_ID = PROJECT_ID_DS\n",
    "REGION = \"{region}\"\n",
    "BUCKET_URI = 'gs://{bucket-id}/remote-training' # bucket creado previamente"
   ]
  },
  {
   "cell_type": "code",
   "execution_count": null,
   "id": "31e9aad9-13db-4050-b4a8-4dfd1ac7cde4",
   "metadata": {},
   "outputs": [],
   "source": [
    "#! gcloud auth application-default login"
   ]
  },
  {
   "cell_type": "code",
   "execution_count": null,
   "id": "9f9d09ae-cecc-4937-bb76-099a006db6d8",
   "metadata": {},
   "outputs": [],
   "source": [
    "# ! gcloud config set project {PROJECT_ID}"
   ]
  },
  {
   "cell_type": "code",
   "execution_count": null,
   "id": "e893e62b-b102-4b85-a61c-71b336125700",
   "metadata": {},
   "outputs": [],
   "source": []
  },
  {
   "cell_type": "code",
   "execution_count": null,
   "id": "087e0eab-2183-44cd-b01c-320752d22e55",
   "metadata": {},
   "outputs": [],
   "source": []
  },
  {
   "cell_type": "markdown",
   "id": "71e03b77-822b-422c-afa0-51d1aa3a5ed1",
   "metadata": {},
   "source": [
    "### 1. Autenticarse\n",
    "Vertex Workbrench: No es necesario\n",
    "Colab / Jupyter notebooks: Es necesario autenticarse"
   ]
  },
  {
   "cell_type": "code",
   "execution_count": null,
   "id": "35b8bc50-577e-4b58-93cd-53e453979784",
   "metadata": {},
   "outputs": [],
   "source": [
    "! gcloud auth login"
   ]
  },
  {
   "cell_type": "code",
   "execution_count": null,
   "id": "21eb85f8-5938-4a80-bd8f-9384bd479539",
   "metadata": {},
   "outputs": [],
   "source": []
  },
  {
   "cell_type": "markdown",
   "id": "6b0d26cd-9e37-46f1-90ab-3ae9099997c6",
   "metadata": {},
   "source": [
    "### 2. Inicializar vertex"
   ]
  },
  {
   "cell_type": "code",
   "execution_count": null,
   "id": "109b3cd5-1956-4a69-ac85-bdf4607917a9",
   "metadata": {},
   "outputs": [],
   "source": [
    "# params\n",
    "REMOTE_JOB_NAME = \"remote-scalar\"\n",
    "REMOTE_JOB_BUCKET = f\"{BUCKET_URI}/{REMOTE_JOB_NAME}\"\n",
    "\n",
    "print('REMOTE_JOB_BUCKET: ', REMOTE_JOB_BUCKET)"
   ]
  },
  {
   "cell_type": "code",
   "execution_count": null,
   "id": "f0ac5e62-43f5-46da-90e0-fc7f9e6a4ee5",
   "metadata": {},
   "outputs": [],
   "source": [
    "vertexai.init(\n",
    "    project=PROJECT_ID,\n",
    "    location=REGION,\n",
    "    staging_bucket=REMOTE_JOB_BUCKET,\n",
    ")"
   ]
  },
  {
   "cell_type": "code",
   "execution_count": null,
   "id": "418d8638-f34b-4e2e-a67b-f285ac41bdbb",
   "metadata": {},
   "outputs": [],
   "source": []
  },
  {
   "cell_type": "markdown",
   "id": "8d5cd279-7968-479b-913c-0c114ac648ab",
   "metadata": {},
   "source": [
    "### 3. Preparar dataset\n",
    "Se utiliza el iris dataset"
   ]
  },
  {
   "cell_type": "code",
   "execution_count": null,
   "id": "5dd7dd13-c88a-4c89-8de8-edc280289c84",
   "metadata": {},
   "outputs": [],
   "source": [
    "dataset = load_iris()\n",
    "\n",
    "X, X_retrain, y, y_retrain = train_test_split(\n",
    "    dataset.data, dataset.target, test_size=0.60, random_state=42\n",
    ")\n",
    "X_train, X_test, y_train, y_test = train_test_split(\n",
    "    X, y, test_size=0.20, random_state=42\n",
    ")\n",
    "\n",
    "# generar 3 datasets: train, retrain, test\n",
    "print(\"Data size: \", len(dataset.target))\n",
    "print(\"X_train size: \", len(X_train))\n",
    "print(\"X_retrain size: \", len(X_retrain))\n",
    "print(\"X_test size: \", len(X_test))"
   ]
  },
  {
   "cell_type": "code",
   "execution_count": null,
   "id": "1a628eb3-e8be-4dcc-8d9a-10de9a7b4ce6",
   "metadata": {},
   "outputs": [],
   "source": []
  },
  {
   "cell_type": "markdown",
   "id": "bd4eea75-7f53-46d0-9e43-57a0d73038fe",
   "metadata": {},
   "source": [
    "### 3. Feature transformation\n",
    "Utilizando remote training"
   ]
  },
  {
   "cell_type": "code",
   "execution_count": null,
   "id": "49ed67fc-f33d-4326-9ae8-ef7b6146a1d8",
   "metadata": {},
   "outputs": [],
   "source": [
    "# Switch to remote mode for training\n",
    "vertexai.preview.init(remote=True)"
   ]
  },
  {
   "cell_type": "markdown",
   "id": "9a8dc708-c2c7-468d-b534-4ef50b060789",
   "metadata": {},
   "source": [
    "#### 3.1 Execute remote job for fit_transform() on training data\n",
    "Next, indicate that the StandardScalar class is to be executed remotely. Then set up the data transform and call the fit_transform() method is executed remotely."
   ]
  },
  {
   "cell_type": "code",
   "execution_count": null,
   "id": "927ba774-3404-472e-929d-8715151a1e32",
   "metadata": {},
   "outputs": [],
   "source": [
    "# ------> Setear como remoto la clase (en este caso de sklearn) que se va a ejecutar de forma remota.\n",
    "# En el ejemplo se renombra la clase remota de vertex igual que la original local (probar si se puede asignar otro nombre a la clase, me imagino que si)\n",
    "\n",
    "StandardScaler = vertexai.preview.remote(StandardScaler)\n",
    "\n",
    "\n",
    "# ----> el resto del código se ejecuta igual que siempre. El único cambio es que la clase del modelo que se quiere ejecutar remoto debe pasar por un\n",
    "# método de vertex"
   ]
  },
  {
   "cell_type": "code",
   "execution_count": null,
   "id": "1c4ac3c1-65ab-40b2-9c51-e1acfeb8ae49",
   "metadata": {},
   "outputs": [],
   "source": [
    "transformer = StandardScaler()\n",
    "transformer # la clase ahora es de vertex"
   ]
  },
  {
   "cell_type": "code",
   "execution_count": null,
   "id": "972c07bd-26e2-426c-bc5f-95bc957ed08e",
   "metadata": {},
   "outputs": [],
   "source": [
    "# entrenamiento y tranform de forma remota - si se corre una segunda vez en el notebook ya no se ejecuta la versión remota de vertex sino que la local\n",
    "X_train = transformer.fit_transform(X_train)"
   ]
  },
  {
   "cell_type": "markdown",
   "id": "fecaa838-0779-4320-8ad3-fb8a96b1f2b4",
   "metadata": {},
   "source": [
    "# INCOMPLETO: CORRIENDO EN VERTEX WORKBRENCH FUNCIONA PERO AQUI NO, NO SÉ POR QUÉ"
   ]
  },
  {
   "cell_type": "code",
   "execution_count": null,
   "id": "744ac91a-4be8-432f-86df-f7f6d84f95b0",
   "metadata": {},
   "outputs": [],
   "source": []
  }
 ],
 "metadata": {
  "kernelspec": {
   "display_name": "Python 3 (ipykernel)",
   "language": "python",
   "name": "python3"
  },
  "language_info": {
   "codemirror_mode": {
    "name": "ipython",
    "version": 3
   },
   "file_extension": ".py",
   "mimetype": "text/x-python",
   "name": "python",
   "nbconvert_exporter": "python",
   "pygments_lexer": "ipython3",
   "version": "3.10.14"
  }
 },
 "nbformat": 4,
 "nbformat_minor": 5
}
