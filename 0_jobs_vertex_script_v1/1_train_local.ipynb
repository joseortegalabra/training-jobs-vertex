{
 "cells": [
  {
   "cell_type": "markdown",
   "id": "cf5d89cc-39c4-44e4-8d9f-68eee8fd7e59",
   "metadata": {
    "tags": []
   },
   "source": [
    "### DESARROLLO LOCAL"
   ]
  },
  {
   "cell_type": "code",
   "execution_count": null,
   "id": "597c5254-97f7-475c-aea5-070fe07f352d",
   "metadata": {},
   "outputs": [],
   "source": [
    "import pandas as pd\n",
    "import numpy as np\n",
    "from sklearn.linear_model import LinearRegression\n",
    "from sklearn.metrics import r2_score\n",
    "import sklearn\n",
    "import sys\n",
    "\n",
    "print(\"Versión de Python:\", sys.version)\n",
    "print(\"Versión de Pandas:\", pd.__version__)\n",
    "print(\"Versión de Numpy:\", np.__version__)\n",
    "print(\"Versión de Scikit-learn:\", sklearn.__version__)"
   ]
  },
  {
   "cell_type": "code",
   "execution_count": null,
   "id": "7b2141e0-662e-44a3-8911-85a61eab793f",
   "metadata": {},
   "outputs": [],
   "source": [
    "import os\n",
    "from dotenv import load_dotenv, find_dotenv # package used in jupyter notebook to read the variables in file .env\n",
    "\n",
    "\"\"\" get env variable from .env \"\"\"\n",
    "load_dotenv(find_dotenv())\n",
    "\n",
    "\"\"\" Read env variables and save it as python variable \"\"\"\n",
    "PROJECT_ID_DS = os.environ.get(\"PROJECT_GCP\", \"\")"
   ]
  },
  {
   "cell_type": "code",
   "execution_count": null,
   "id": "18cbfcfb-37f6-4c70-a662-6da85227b499",
   "metadata": {},
   "outputs": [],
   "source": []
  },
  {
   "cell_type": "code",
   "execution_count": null,
   "id": "2af01af5-f2d9-4ef4-8aae-cb192bb3d9fb",
   "metadata": {},
   "outputs": [],
   "source": []
  },
  {
   "cell_type": "markdown",
   "id": "0f7b98d9-9f88-4a5f-8390-5afe518ba70a",
   "metadata": {},
   "source": [
    "### CREATE DATASET"
   ]
  },
  {
   "cell_type": "code",
   "execution_count": null,
   "id": "7b4d9a2a-8d7d-4957-9c00-633e4edfa33c",
   "metadata": {},
   "outputs": [],
   "source": [
    "def ec(x, y, z):\n",
    "    return 6*np.power(x, 3) + 5*np.power(y,2) + 10 - 7*z"
   ]
  },
  {
   "cell_type": "code",
   "execution_count": null,
   "id": "1283ff50-7d7b-4b53-9bc8-96f639ed481b",
   "metadata": {},
   "outputs": [],
   "source": [
    "np.random.seed(42)\n",
    "\n",
    "# generate random features\n",
    "len_values = 5000\n",
    "x = np.random.random([len_values, 3])\n",
    "\n",
    "# predict\n",
    "y = ec(x[:, 0], x[:, 1], x[: ,2])\n",
    "\n",
    "# add noise value y\n",
    "y + np.random.random(len_values)"
   ]
  },
  {
   "cell_type": "code",
   "execution_count": null,
   "id": "a1910d71-bfe4-48da-8a42-2be84709d0ac",
   "metadata": {},
   "outputs": [],
   "source": []
  },
  {
   "cell_type": "markdown",
   "id": "3c814c85-e163-460f-8fd7-45d8b210ddcb",
   "metadata": {},
   "source": [
    "### TRAIN MODEL"
   ]
  },
  {
   "cell_type": "code",
   "execution_count": null,
   "id": "d9a53343-453b-4bbf-ad01-8456c0d2720f",
   "metadata": {
    "scrolled": true
   },
   "outputs": [],
   "source": [
    "model = LinearRegression()\n",
    "model.fit(x,y)"
   ]
  },
  {
   "cell_type": "code",
   "execution_count": null,
   "id": "17394013-8be7-40f4-8f00-713bc76cf8d3",
   "metadata": {},
   "outputs": [],
   "source": [
    "y_predicted = model.predict(x)"
   ]
  },
  {
   "cell_type": "markdown",
   "id": "05d27ab2-7597-4c50-8b77-b9b9dba6ff15",
   "metadata": {},
   "source": [
    "### Evaluar model"
   ]
  },
  {
   "cell_type": "code",
   "execution_count": null,
   "id": "519e83d2-9a89-4fc4-be9a-6acf912d727d",
   "metadata": {},
   "outputs": [],
   "source": [
    "r2_score(y_true = y,\n",
    "         y_pred = y_predicted)"
   ]
  },
  {
   "cell_type": "code",
   "execution_count": null,
   "id": "0b0db6a1-0447-43eb-8395-d5b38f4efb72",
   "metadata": {},
   "outputs": [],
   "source": []
  },
  {
   "cell_type": "markdown",
   "id": "48d5ac9c-612f-4497-8f5f-2504439e841e",
   "metadata": {},
   "source": [
    "### Guardar modelo entrenado"
   ]
  },
  {
   "cell_type": "code",
   "execution_count": null,
   "id": "624bd3dc-3ff8-43fe-86a3-8c7b006020ba",
   "metadata": {},
   "outputs": [],
   "source": []
  },
  {
   "cell_type": "code",
   "execution_count": null,
   "id": "e7369b1b-5a19-4ab3-9a57-a33f09e7b977",
   "metadata": {},
   "outputs": [],
   "source": []
  },
  {
   "cell_type": "code",
   "execution_count": null,
   "id": "585206f7-3a82-4509-89a5-94669b2cd2c2",
   "metadata": {},
   "outputs": [],
   "source": []
  },
  {
   "cell_type": "markdown",
   "id": "aabdbb9c-6558-4833-9194-db627d2cdc2c",
   "metadata": {},
   "source": [
    "### Guardar modelo entrenado para ser registrado en vertex models"
   ]
  },
  {
   "cell_type": "code",
   "execution_count": null,
   "id": "65a3b15b-5db0-4044-a5f2-f3744120545b",
   "metadata": {},
   "outputs": [],
   "source": [
    "import pickle\n",
    "import os\n",
    "from google.cloud import storage"
   ]
  },
  {
   "cell_type": "code",
   "execution_count": null,
   "id": "5179f0ef-5f8a-4be1-bf22-e88aac8bb336",
   "metadata": {},
   "outputs": [],
   "source": [
    "\"\"\"\n",
    "######## ESTA ES LA ÚNICA PARTE PARA TENER CUIDADO PARA QUE EL SCRIPT FUNCIONE TANTO EN UN ENTRENAMIENTO LOCAL COMO GCP ########\n",
    "- Para que el modelo entrenado quede registrado en el menú \"MODELS\" de Vertex (artefacto del modelo obligatoriamente con el nombre \"model.pkl\") debe ser guardado en un bucket de GCS definido\n",
    "por un path creado automático al enviar el job de entrenamiento en una variable de ambiente \"AIP_MODEL_DIR\" que solo existe cuando se corre el job de entrenamiento en Vertex. \n",
    "\n",
    "- Cuando se corre localmente la variable de ambiente no existe, por lo tanto, retorna un path: None\n",
    "\n",
    "- Ejemplo path cloud: gs://{bucket-name}/aiplatform-custom-training-2022-05-01-13:27:34.025/model/\n",
    "\"\"\"\n",
    "\n",
    "# Save model artifact to local filesystem (doesn't persist)\n",
    "artifact_filename = 'model.pkl'\n",
    "local_path = artifact_filename\n",
    "with open(local_path, 'wb') as model_file:\n",
    "    pickle.dump(model, model_file)\n",
    "print('modelo guardado local')\n",
    "\n",
    "# Upload model artifact to Cloud Storage - try: guardar en path var de ambiente cuando se corre en cloud y registrar en vertex // except: retornar error cuando no existe path var de ambiente\n",
    "print('path del modelo a GCS - AIP_MODEL_DIR: ', os.getenv(\"AIP_MODEL_DIR\"))\n",
    "try:\n",
    "    model_directory = os.environ['AIP_MODEL_DIR']\n",
    "    storage_path = os.path.join(model_directory, artifact_filename)\n",
    "    blob = storage.blob.Blob.from_string(storage_path, client=storage.Client())\n",
    "    blob.upload_from_filename(local_path)\n",
    "except Exception as e: \n",
    "    print('Error: ', str(e))\n",
    "    print('MODELO NO GUARDADO EN GCS')"
   ]
  },
  {
   "cell_type": "code",
   "execution_count": null,
   "id": "f8f29a29-92a4-4780-9bdc-f9421bed23d6",
   "metadata": {},
   "outputs": [],
   "source": []
  },
  {
   "cell_type": "code",
   "execution_count": null,
   "id": "d5a7aa92-8bb4-496a-aa7c-53bd48c5c9ac",
   "metadata": {},
   "outputs": [],
   "source": [
    "# eliminar modelo guardado en el local\n",
    "os.remove('model.pkl')"
   ]
  },
  {
   "cell_type": "code",
   "execution_count": null,
   "id": "5ce2e9ba-9de1-4508-97a7-572adb8b1b22",
   "metadata": {},
   "outputs": [],
   "source": []
  }
 ],
 "metadata": {
  "environment": {
   "kernel": "python3",
   "name": "common-cpu.m108",
   "type": "gcloud",
   "uri": "gcr.io/deeplearning-platform-release/base-cpu:m108"
  },
  "kernelspec": {
   "display_name": "Python 3 (ipykernel)",
   "language": "python",
   "name": "python3"
  },
  "language_info": {
   "codemirror_mode": {
    "name": "ipython",
    "version": 3
   },
   "file_extension": ".py",
   "mimetype": "text/x-python",
   "name": "python",
   "nbconvert_exporter": "python",
   "pygments_lexer": "ipython3",
   "version": "3.10.14"
  }
 },
 "nbformat": 4,
 "nbformat_minor": 5
}
